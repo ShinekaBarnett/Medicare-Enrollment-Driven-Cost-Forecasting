{
 "cells": [
  {
   "cell_type": "markdown",
   "metadata": {
    "application/vnd.databricks.v1+cell": {
     "cellMetadata": {
      "byteLimit": 2048000,
      "rowLimit": 10000
     },
     "inputWidgets": {},
     "nuid": "0e1a8619-f068-4b79-a5d9-402d825ec848",
     "showTitle": false,
     "tableResultSettingsMap": {},
     "title": ""
    }
   },
   "source": [
    "## **Data Reading**"
   ]
  },
  {
   "cell_type": "code",
   "execution_count": 0,
   "metadata": {
    "application/vnd.databricks.v1+cell": {
     "cellMetadata": {
      "byteLimit": 2048000,
      "rowLimit": 10000
     },
     "inputWidgets": {},
     "nuid": "ddb0bab4-d5b3-4a5e-87e0-c8c3073e451d",
     "showTitle": false,
     "tableResultSettingsMap": {},
     "title": ""
    }
   },
   "outputs": [],
   "source": [
    "df = spark.read.format(\"delta\")\\\n",
    "    .load(f\"abfss://bronze@medicarestorageacct.dfs.core.windows.net/enrollment\")"
   ]
  },
  {
   "cell_type": "code",
   "execution_count": 0,
   "metadata": {
    "application/vnd.databricks.v1+cell": {
     "cellMetadata": {
      "byteLimit": 2048000,
      "rowLimit": 10000
     },
     "inputWidgets": {},
     "nuid": "7da252bc-e4eb-44e1-8285-1e82acb17513",
     "showTitle": false,
     "tableResultSettingsMap": {},
     "title": ""
    }
   },
   "outputs": [
    {
     "data": {
      "text/html": [
       "<style scoped>\n",
       "  .table-result-container {\n",
       "    max-height: 300px;\n",
       "    overflow: auto;\n",
       "  }\n",
       "  table, th, td {\n",
       "    border: 1px solid black;\n",
       "    border-collapse: collapse;\n",
       "  }\n",
       "  th, td {\n",
       "    padding: 5px;\n",
       "  }\n",
       "  th {\n",
       "    text-align: left;\n",
       "  }\n",
       "</style><div class='table-result-container'><table class='table-result'><thead style='background-color: white'><tr><th>State</th><th>Enrollment_Total</th><th>Enrollment_PartA</th><th>Enrollment_PartB</th><th>Enrollment_Other</th></tr></thead><tbody><tr><td>Total, Aged, and Disabled Enrollees, by Area of Residence</td><td>null</td><td>null</td><td>null</td><td>null</td></tr><tr><td>Calendar Year 2021</td><td>null</td><td>null</td><td>null</td><td>null</td></tr><tr><td>Area of Residence</td><td>null</td><td>null</td><td>null</td><td>null</td></tr><tr><td>BLANK</td><td>null</td><td>null</td><td>null</td><td>null</td></tr><tr><td>All Areas</td><td>3832287</td><td>3301152</td><td>531135</td><td>2641954</td></tr><tr><td>United States</td><td>3776708</td><td>3252470</td><td>524238</td><td>2619395</td></tr><tr><td>BLANK</td><td>null</td><td>null</td><td>null</td><td>null</td></tr><tr><td>Alabama</td><td>59808</td><td>47060</td><td>12748</td><td>44119</td></tr><tr><td>Alaska</td><td>8138</td><td>7257</td><td>881</td><td>5405</td></tr><tr><td>Arizona</td><td>80238</td><td>71153</td><td>9085</td><td>57625</td></tr><tr><td>Arkansas</td><td>35471</td><td>27496</td><td>7975</td><td>26650</td></tr><tr><td>California</td><td>406086</td><td>365363</td><td>40723</td><td>271399</td></tr><tr><td>Colorado</td><td>61867</td><td>56323</td><td>5544</td><td>42786</td></tr><tr><td>Connecticut</td><td>42802</td><td>37899</td><td>4903</td><td>26466</td></tr><tr><td>Delaware</td><td>13293</td><td>11703</td><td>1590</td><td>9406</td></tr><tr><td>District of Columbia</td><td>5379</td><td>4617</td><td>762</td><td>3210</td></tr><tr><td>Florida</td><td>276881</td><td>241140</td><td>35741</td><td>201530</td></tr><tr><td>Georgia</td><td>112030</td><td>93174</td><td>18856</td><td>81650</td></tr><tr><td>Hawaii</td><td>17451</td><td>16025</td><td>1426</td><td>10591</td></tr><tr><td>Idaho</td><td>21915</td><td>18972</td><td>2943</td><td>16607</td></tr><tr><td>Illinois</td><td>139815</td><td>121555</td><td>18260</td><td>94419</td></tr><tr><td>Indiana</td><td>78305</td><td>65444</td><td>12861</td><td>55608</td></tr><tr><td>Iowa</td><td>39141</td><td>33436</td><td>5705</td><td>27829</td></tr><tr><td>Kansas</td><td>34498</td><td>29747</td><td>4751</td><td>23806</td></tr><tr><td>Kentucky</td><td>52974</td><td>42165</td><td>10809</td><td>39215</td></tr><tr><td>Louisiana</td><td>54481</td><td>44010</td><td>10471</td><td>39958</td></tr><tr><td>Maine</td><td>20017</td><td>17442</td><td>2575</td><td>13906</td></tr><tr><td>Maryland</td><td>67015</td><td>58682</td><td>8333</td><td>40507</td></tr><tr><td>Massachusetts</td><td>80472</td><td>70381</td><td>10091</td><td>47077</td></tr><tr><td>Michigan</td><td>127075</td><td>106963</td><td>20112</td><td>95511</td></tr><tr><td>Minnesota</td><td>66446</td><td>58572</td><td>7874</td><td>45317</td></tr><tr><td>Mississippi</td><td>35926</td><td>28069</td><td>7857</td><td>27010</td></tr><tr><td>Missouri</td><td>74412</td><td>61733</td><td>12679</td><td>54648</td></tr><tr><td>Montana</td><td>15091</td><td>13323</td><td>1768</td><td>11065</td></tr><tr><td>Nebraska</td><td>22137</td><td>19168</td><td>2969</td><td>14927</td></tr><tr><td>Nevada</td><td>34210</td><td>30276</td><td>3934</td><td>24260</td></tr><tr><td>New Hampshire</td><td>20064</td><td>17352</td><td>2712</td><td>12557</td></tr><tr><td>New Jersey</td><td>102636</td><td>91145</td><td>11491</td><td>62363</td></tr><tr><td>New Mexico</td><td>25232</td><td>21827</td><td>3405</td><td>18332</td></tr><tr><td>New York</td><td>222553</td><td>192618</td><td>29935</td><td>143044</td></tr><tr><td>North Carolina</td><td>120981</td><td>101757</td><td>19224</td><td>90261</td></tr><tr><td>North Dakota</td><td>8950</td><td>7847</td><td>1103</td><td>6132</td></tr><tr><td>Ohio</td><td>144515</td><td>122301</td><td>22214</td><td>102844</td></tr><tr><td>Oklahoma</td><td>45445</td><td>37252</td><td>8193</td><td>31990</td></tr><tr><td>Oregon</td><td>50364</td><td>44159</td><td>6205</td><td>36117</td></tr><tr><td>Pennsylvania</td><td>165809</td><td>141607</td><td>24202</td><td>109791</td></tr><tr><td>Rhode Island</td><td>13671</td><td>11496</td><td>2175</td><td>8276</td></tr><tr><td>South Carolina</td><td>65379</td><td>54487</td><td>10892</td><td>49559</td></tr><tr><td>South Dakota</td><td>11627</td><td>10386</td><td>1241</td><td>8186</td></tr><tr><td>Tennessee</td><td>81994</td><td>67620</td><td>14374</td><td>59636</td></tr><tr><td>Texas</td><td>286588</td><td>247738</td><td>38850</td><td>200930</td></tr><tr><td>Utah</td><td>27523</td><td>24322</td><td>3201</td><td>18166</td></tr><tr><td>Vermont</td><td>9151</td><td>8006</td><td>1145</td><td>6028</td></tr><tr><td>Virginia</td><td>96405</td><td>82730</td><td>13675</td><td>65158</td></tr><tr><td>Washington</td><td>86894</td><td>77076</td><td>9818</td><td>57958</td></tr><tr><td>West Virginia</td><td>23342</td><td>18597</td><td>4745</td><td>17677</td></tr><tr><td>Wisconsin</td><td>76199</td><td>65952</td><td>10247</td><td>56042</td></tr><tr><td>Wyoming</td><td>8012</td><td>7047</td><td>965</td><td>5841</td></tr><tr><td>BLANK</td><td>null</td><td>null</td><td>null</td><td>null</td></tr><tr><td>Territories, Possessions, and Other</td><td>null</td><td>null</td><td>null</td><td>null</td></tr><tr><td>Puerto Rico</td><td>30783</td><td>24796</td><td>5987</td><td>19353</td></tr><tr><td>Virgin Islands</td><td>1141</td><td>1027</td><td>114</td><td>772</td></tr><tr><td>American Samoa</td><td>384</td><td>238</td><td>146</td><td>271</td></tr><tr><td>Guam</td><td>1373</td><td>1194</td><td>179</td><td>776</td></tr><tr><td>Northern Mariana Islands</td><td>272</td><td>226</td><td>46</td><td>180</td></tr><tr><td>Foreign Countries and Other Outyling Areas</td><td>21622</td><td>21197</td><td>425</td><td>1203</td></tr><tr><td>Unknown</td><td>null</td><td>null</td><td>null</td><td>null</td></tr><tr><td>null</td><td>null</td><td>null</td><td>null</td><td>null</td></tr><tr><td>* Counts between 1 and 10 have been suppressed because of CMS rules to protect the privacy of beneficiaries.</td><td>null</td><td>null</td><td>null</td><td>null</td></tr><tr><td>† Counts have been cross-suppressed to prevent the recalculation of suppressed counts between 1 and 10.</td><td>null</td><td>null</td><td>null</td><td>null</td></tr><tr><td>null</td><td>null</td><td>null</td><td>null</td><td>null</td></tr><tr><td>NOTE:  The enrollment counts are determined using an ever-enrolled methodology.</td><td>null</td><td>null</td><td>null</td><td>null</td></tr><tr><td>BLANK</td><td>null</td><td>null</td><td>null</td><td>null</td></tr><tr><td>SOURCE:  Centers for Medicare & Medicaid Services, Office of Enterprise Data and Analytics, CMS Chronic Conditions Data Warehouse.</td><td>null</td><td>null</td><td>null</td><td>null</td></tr><tr><td>null</td><td>null</td><td>null</td><td>null</td><td>null</td></tr></tbody></table></div>"
      ]
     },
     "metadata": {
      "application/vnd.databricks.v1+output": {
       "addedWidgets": {},
       "aggData": [],
       "aggError": "",
       "aggOverflow": false,
       "aggSchema": [],
       "aggSeriesLimitReached": false,
       "aggType": "",
       "arguments": {},
       "columnCustomDisplayInfos": {},
       "data": [
        [
         "Total, Aged, and Disabled Enrollees, by Area of Residence",
         null,
         null,
         null,
         null
        ],
        [
         "Calendar Year 2021",
         null,
         null,
         null,
         null
        ],
        [
         "Area of Residence",
         null,
         null,
         null,
         null
        ],
        [
         "BLANK",
         null,
         null,
         null,
         null
        ],
        [
         "All Areas",
         3832287,
         3301152,
         531135,
         2641954
        ],
        [
         "United States",
         3776708,
         3252470,
         524238,
         2619395
        ],
        [
         "BLANK",
         null,
         null,
         null,
         null
        ],
        [
         "Alabama",
         59808,
         47060,
         12748,
         44119
        ],
        [
         "Alaska",
         8138,
         7257,
         881,
         5405
        ],
        [
         "Arizona",
         80238,
         71153,
         9085,
         57625
        ],
        [
         "Arkansas",
         35471,
         27496,
         7975,
         26650
        ],
        [
         "California",
         406086,
         365363,
         40723,
         271399
        ],
        [
         "Colorado",
         61867,
         56323,
         5544,
         42786
        ],
        [
         "Connecticut",
         42802,
         37899,
         4903,
         26466
        ],
        [
         "Delaware",
         13293,
         11703,
         1590,
         9406
        ],
        [
         "District of Columbia",
         5379,
         4617,
         762,
         3210
        ],
        [
         "Florida",
         276881,
         241140,
         35741,
         201530
        ],
        [
         "Georgia",
         112030,
         93174,
         18856,
         81650
        ],
        [
         "Hawaii",
         17451,
         16025,
         1426,
         10591
        ],
        [
         "Idaho",
         21915,
         18972,
         2943,
         16607
        ],
        [
         "Illinois",
         139815,
         121555,
         18260,
         94419
        ],
        [
         "Indiana",
         78305,
         65444,
         12861,
         55608
        ],
        [
         "Iowa",
         39141,
         33436,
         5705,
         27829
        ],
        [
         "Kansas",
         34498,
         29747,
         4751,
         23806
        ],
        [
         "Kentucky",
         52974,
         42165,
         10809,
         39215
        ],
        [
         "Louisiana",
         54481,
         44010,
         10471,
         39958
        ],
        [
         "Maine",
         20017,
         17442,
         2575,
         13906
        ],
        [
         "Maryland",
         67015,
         58682,
         8333,
         40507
        ],
        [
         "Massachusetts",
         80472,
         70381,
         10091,
         47077
        ],
        [
         "Michigan",
         127075,
         106963,
         20112,
         95511
        ],
        [
         "Minnesota",
         66446,
         58572,
         7874,
         45317
        ],
        [
         "Mississippi",
         35926,
         28069,
         7857,
         27010
        ],
        [
         "Missouri",
         74412,
         61733,
         12679,
         54648
        ],
        [
         "Montana",
         15091,
         13323,
         1768,
         11065
        ],
        [
         "Nebraska",
         22137,
         19168,
         2969,
         14927
        ],
        [
         "Nevada",
         34210,
         30276,
         3934,
         24260
        ],
        [
         "New Hampshire",
         20064,
         17352,
         2712,
         12557
        ],
        [
         "New Jersey",
         102636,
         91145,
         11491,
         62363
        ],
        [
         "New Mexico",
         25232,
         21827,
         3405,
         18332
        ],
        [
         "New York",
         222553,
         192618,
         29935,
         143044
        ],
        [
         "North Carolina",
         120981,
         101757,
         19224,
         90261
        ],
        [
         "North Dakota",
         8950,
         7847,
         1103,
         6132
        ],
        [
         "Ohio",
         144515,
         122301,
         22214,
         102844
        ],
        [
         "Oklahoma",
         45445,
         37252,
         8193,
         31990
        ],
        [
         "Oregon",
         50364,
         44159,
         6205,
         36117
        ],
        [
         "Pennsylvania",
         165809,
         141607,
         24202,
         109791
        ],
        [
         "Rhode Island",
         13671,
         11496,
         2175,
         8276
        ],
        [
         "South Carolina",
         65379,
         54487,
         10892,
         49559
        ],
        [
         "South Dakota",
         11627,
         10386,
         1241,
         8186
        ],
        [
         "Tennessee",
         81994,
         67620,
         14374,
         59636
        ],
        [
         "Texas",
         286588,
         247738,
         38850,
         200930
        ],
        [
         "Utah",
         27523,
         24322,
         3201,
         18166
        ],
        [
         "Vermont",
         9151,
         8006,
         1145,
         6028
        ],
        [
         "Virginia",
         96405,
         82730,
         13675,
         65158
        ],
        [
         "Washington",
         86894,
         77076,
         9818,
         57958
        ],
        [
         "West Virginia",
         23342,
         18597,
         4745,
         17677
        ],
        [
         "Wisconsin",
         76199,
         65952,
         10247,
         56042
        ],
        [
         "Wyoming",
         8012,
         7047,
         965,
         5841
        ],
        [
         "BLANK",
         null,
         null,
         null,
         null
        ],
        [
         "Territories, Possessions, and Other",
         null,
         null,
         null,
         null
        ],
        [
         "Puerto Rico",
         30783,
         24796,
         5987,
         19353
        ],
        [
         "Virgin Islands",
         1141,
         1027,
         114,
         772
        ],
        [
         "American Samoa",
         384,
         238,
         146,
         271
        ],
        [
         "Guam",
         1373,
         1194,
         179,
         776
        ],
        [
         "Northern Mariana Islands",
         272,
         226,
         46,
         180
        ],
        [
         "Foreign Countries and Other Outyling Areas",
         21622,
         21197,
         425,
         1203
        ],
        [
         "Unknown",
         null,
         null,
         null,
         null
        ],
        [
         null,
         null,
         null,
         null,
         null
        ],
        [
         "* Counts between 1 and 10 have been suppressed because of CMS rules to protect the privacy of beneficiaries.",
         null,
         null,
         null,
         null
        ],
        [
         "† Counts have been cross-suppressed to prevent the recalculation of suppressed counts between 1 and 10.",
         null,
         null,
         null,
         null
        ],
        [
         null,
         null,
         null,
         null,
         null
        ],
        [
         "NOTE:  The enrollment counts are determined using an ever-enrolled methodology.",
         null,
         null,
         null,
         null
        ],
        [
         "BLANK",
         null,
         null,
         null,
         null
        ],
        [
         "SOURCE:  Centers for Medicare & Medicaid Services, Office of Enterprise Data and Analytics, CMS Chronic Conditions Data Warehouse.",
         null,
         null,
         null,
         null
        ],
        [
         null,
         null,
         null,
         null,
         null
        ]
       ],
       "datasetInfos": [],
       "dbfsResultPath": null,
       "isJsonSchema": true,
       "metadata": {},
       "overflow": false,
       "plotOptions": {
        "customPlotOptions": {},
        "displayType": "table",
        "pivotAggregation": null,
        "pivotColumns": null,
        "xColumns": null,
        "yColumns": null
       },
       "removedWidgets": [],
       "schema": [
        {
         "metadata": "{}",
         "name": "State",
         "type": "\"string\""
        },
        {
         "metadata": "{}",
         "name": "Enrollment_Total",
         "type": "\"integer\""
        },
        {
         "metadata": "{}",
         "name": "Enrollment_PartA",
         "type": "\"integer\""
        },
        {
         "metadata": "{}",
         "name": "Enrollment_PartB",
         "type": "\"integer\""
        },
        {
         "metadata": "{}",
         "name": "Enrollment_Other",
         "type": "\"integer\""
        }
       ],
       "type": "table"
      }
     },
     "output_type": "display_data"
    }
   ],
   "source": [
    "display(df)"
   ]
  },
  {
   "cell_type": "code",
   "execution_count": 0,
   "metadata": {
    "application/vnd.databricks.v1+cell": {
     "cellMetadata": {
      "byteLimit": 2048000,
      "rowLimit": 10000
     },
     "inputWidgets": {},
     "nuid": "ae9e21aa-6a9f-4b87-b07a-c2135cbbf9fb",
     "showTitle": false,
     "tableResultSettingsMap": {},
     "title": ""
    }
   },
   "outputs": [],
   "source": [
    "df = df.drop(\"Enrollment_Other\")"
   ]
  },
  {
   "cell_type": "code",
   "execution_count": 0,
   "metadata": {
    "application/vnd.databricks.v1+cell": {
     "cellMetadata": {
      "byteLimit": 2048000,
      "rowLimit": 10000
     },
     "inputWidgets": {},
     "nuid": "e445d95a-fc0b-4fe7-8771-88054f9879ad",
     "showTitle": false,
     "tableResultSettingsMap": {},
     "title": ""
    }
   },
   "outputs": [
    {
     "data": {
      "text/html": [
       "<style scoped>\n",
       "  .table-result-container {\n",
       "    max-height: 300px;\n",
       "    overflow: auto;\n",
       "  }\n",
       "  table, th, td {\n",
       "    border: 1px solid black;\n",
       "    border-collapse: collapse;\n",
       "  }\n",
       "  th, td {\n",
       "    padding: 5px;\n",
       "  }\n",
       "  th {\n",
       "    text-align: left;\n",
       "  }\n",
       "</style><div class='table-result-container'><table class='table-result'><thead style='background-color: white'><tr><th>State</th><th>Enrollment_Total</th><th>Enrollment_PartA</th><th>Enrollment_PartB</th></tr></thead><tbody><tr><td>Total, Aged, and Disabled Enrollees, by Area of Residence</td><td>null</td><td>null</td><td>null</td></tr><tr><td>Calendar Year 2021</td><td>null</td><td>null</td><td>null</td></tr><tr><td>Area of Residence</td><td>null</td><td>null</td><td>null</td></tr><tr><td>BLANK</td><td>null</td><td>null</td><td>null</td></tr><tr><td>All Areas</td><td>3832287</td><td>3301152</td><td>531135</td></tr><tr><td>United States</td><td>3776708</td><td>3252470</td><td>524238</td></tr><tr><td>BLANK</td><td>null</td><td>null</td><td>null</td></tr><tr><td>Alabama</td><td>59808</td><td>47060</td><td>12748</td></tr><tr><td>Alaska</td><td>8138</td><td>7257</td><td>881</td></tr><tr><td>Arizona</td><td>80238</td><td>71153</td><td>9085</td></tr><tr><td>Arkansas</td><td>35471</td><td>27496</td><td>7975</td></tr><tr><td>California</td><td>406086</td><td>365363</td><td>40723</td></tr><tr><td>Colorado</td><td>61867</td><td>56323</td><td>5544</td></tr><tr><td>Connecticut</td><td>42802</td><td>37899</td><td>4903</td></tr><tr><td>Delaware</td><td>13293</td><td>11703</td><td>1590</td></tr><tr><td>District of Columbia</td><td>5379</td><td>4617</td><td>762</td></tr><tr><td>Florida</td><td>276881</td><td>241140</td><td>35741</td></tr><tr><td>Georgia</td><td>112030</td><td>93174</td><td>18856</td></tr><tr><td>Hawaii</td><td>17451</td><td>16025</td><td>1426</td></tr><tr><td>Idaho</td><td>21915</td><td>18972</td><td>2943</td></tr><tr><td>Illinois</td><td>139815</td><td>121555</td><td>18260</td></tr><tr><td>Indiana</td><td>78305</td><td>65444</td><td>12861</td></tr><tr><td>Iowa</td><td>39141</td><td>33436</td><td>5705</td></tr><tr><td>Kansas</td><td>34498</td><td>29747</td><td>4751</td></tr><tr><td>Kentucky</td><td>52974</td><td>42165</td><td>10809</td></tr><tr><td>Louisiana</td><td>54481</td><td>44010</td><td>10471</td></tr><tr><td>Maine</td><td>20017</td><td>17442</td><td>2575</td></tr><tr><td>Maryland</td><td>67015</td><td>58682</td><td>8333</td></tr><tr><td>Massachusetts</td><td>80472</td><td>70381</td><td>10091</td></tr><tr><td>Michigan</td><td>127075</td><td>106963</td><td>20112</td></tr><tr><td>Minnesota</td><td>66446</td><td>58572</td><td>7874</td></tr><tr><td>Mississippi</td><td>35926</td><td>28069</td><td>7857</td></tr><tr><td>Missouri</td><td>74412</td><td>61733</td><td>12679</td></tr><tr><td>Montana</td><td>15091</td><td>13323</td><td>1768</td></tr><tr><td>Nebraska</td><td>22137</td><td>19168</td><td>2969</td></tr><tr><td>Nevada</td><td>34210</td><td>30276</td><td>3934</td></tr><tr><td>New Hampshire</td><td>20064</td><td>17352</td><td>2712</td></tr><tr><td>New Jersey</td><td>102636</td><td>91145</td><td>11491</td></tr><tr><td>New Mexico</td><td>25232</td><td>21827</td><td>3405</td></tr><tr><td>New York</td><td>222553</td><td>192618</td><td>29935</td></tr><tr><td>North Carolina</td><td>120981</td><td>101757</td><td>19224</td></tr><tr><td>North Dakota</td><td>8950</td><td>7847</td><td>1103</td></tr><tr><td>Ohio</td><td>144515</td><td>122301</td><td>22214</td></tr><tr><td>Oklahoma</td><td>45445</td><td>37252</td><td>8193</td></tr><tr><td>Oregon</td><td>50364</td><td>44159</td><td>6205</td></tr><tr><td>Pennsylvania</td><td>165809</td><td>141607</td><td>24202</td></tr><tr><td>Rhode Island</td><td>13671</td><td>11496</td><td>2175</td></tr><tr><td>South Carolina</td><td>65379</td><td>54487</td><td>10892</td></tr><tr><td>South Dakota</td><td>11627</td><td>10386</td><td>1241</td></tr><tr><td>Tennessee</td><td>81994</td><td>67620</td><td>14374</td></tr><tr><td>Texas</td><td>286588</td><td>247738</td><td>38850</td></tr><tr><td>Utah</td><td>27523</td><td>24322</td><td>3201</td></tr><tr><td>Vermont</td><td>9151</td><td>8006</td><td>1145</td></tr><tr><td>Virginia</td><td>96405</td><td>82730</td><td>13675</td></tr><tr><td>Washington</td><td>86894</td><td>77076</td><td>9818</td></tr><tr><td>West Virginia</td><td>23342</td><td>18597</td><td>4745</td></tr><tr><td>Wisconsin</td><td>76199</td><td>65952</td><td>10247</td></tr><tr><td>Wyoming</td><td>8012</td><td>7047</td><td>965</td></tr><tr><td>BLANK</td><td>null</td><td>null</td><td>null</td></tr><tr><td>Territories, Possessions, and Other</td><td>null</td><td>null</td><td>null</td></tr><tr><td>Puerto Rico</td><td>30783</td><td>24796</td><td>5987</td></tr><tr><td>Virgin Islands</td><td>1141</td><td>1027</td><td>114</td></tr><tr><td>American Samoa</td><td>384</td><td>238</td><td>146</td></tr><tr><td>Guam</td><td>1373</td><td>1194</td><td>179</td></tr><tr><td>Northern Mariana Islands</td><td>272</td><td>226</td><td>46</td></tr><tr><td>Foreign Countries and Other Outyling Areas</td><td>21622</td><td>21197</td><td>425</td></tr><tr><td>Unknown</td><td>null</td><td>null</td><td>null</td></tr><tr><td>null</td><td>null</td><td>null</td><td>null</td></tr><tr><td>* Counts between 1 and 10 have been suppressed because of CMS rules to protect the privacy of beneficiaries.</td><td>null</td><td>null</td><td>null</td></tr><tr><td>† Counts have been cross-suppressed to prevent the recalculation of suppressed counts between 1 and 10.</td><td>null</td><td>null</td><td>null</td></tr><tr><td>null</td><td>null</td><td>null</td><td>null</td></tr><tr><td>NOTE:  The enrollment counts are determined using an ever-enrolled methodology.</td><td>null</td><td>null</td><td>null</td></tr><tr><td>BLANK</td><td>null</td><td>null</td><td>null</td></tr><tr><td>SOURCE:  Centers for Medicare & Medicaid Services, Office of Enterprise Data and Analytics, CMS Chronic Conditions Data Warehouse.</td><td>null</td><td>null</td><td>null</td></tr><tr><td>null</td><td>null</td><td>null</td><td>null</td></tr></tbody></table></div>"
      ]
     },
     "metadata": {
      "application/vnd.databricks.v1+output": {
       "addedWidgets": {},
       "aggData": [],
       "aggError": "",
       "aggOverflow": false,
       "aggSchema": [],
       "aggSeriesLimitReached": false,
       "aggType": "",
       "arguments": {},
       "columnCustomDisplayInfos": {},
       "data": [
        [
         "Total, Aged, and Disabled Enrollees, by Area of Residence",
         null,
         null,
         null
        ],
        [
         "Calendar Year 2021",
         null,
         null,
         null
        ],
        [
         "Area of Residence",
         null,
         null,
         null
        ],
        [
         "BLANK",
         null,
         null,
         null
        ],
        [
         "All Areas",
         3832287,
         3301152,
         531135
        ],
        [
         "United States",
         3776708,
         3252470,
         524238
        ],
        [
         "BLANK",
         null,
         null,
         null
        ],
        [
         "Alabama",
         59808,
         47060,
         12748
        ],
        [
         "Alaska",
         8138,
         7257,
         881
        ],
        [
         "Arizona",
         80238,
         71153,
         9085
        ],
        [
         "Arkansas",
         35471,
         27496,
         7975
        ],
        [
         "California",
         406086,
         365363,
         40723
        ],
        [
         "Colorado",
         61867,
         56323,
         5544
        ],
        [
         "Connecticut",
         42802,
         37899,
         4903
        ],
        [
         "Delaware",
         13293,
         11703,
         1590
        ],
        [
         "District of Columbia",
         5379,
         4617,
         762
        ],
        [
         "Florida",
         276881,
         241140,
         35741
        ],
        [
         "Georgia",
         112030,
         93174,
         18856
        ],
        [
         "Hawaii",
         17451,
         16025,
         1426
        ],
        [
         "Idaho",
         21915,
         18972,
         2943
        ],
        [
         "Illinois",
         139815,
         121555,
         18260
        ],
        [
         "Indiana",
         78305,
         65444,
         12861
        ],
        [
         "Iowa",
         39141,
         33436,
         5705
        ],
        [
         "Kansas",
         34498,
         29747,
         4751
        ],
        [
         "Kentucky",
         52974,
         42165,
         10809
        ],
        [
         "Louisiana",
         54481,
         44010,
         10471
        ],
        [
         "Maine",
         20017,
         17442,
         2575
        ],
        [
         "Maryland",
         67015,
         58682,
         8333
        ],
        [
         "Massachusetts",
         80472,
         70381,
         10091
        ],
        [
         "Michigan",
         127075,
         106963,
         20112
        ],
        [
         "Minnesota",
         66446,
         58572,
         7874
        ],
        [
         "Mississippi",
         35926,
         28069,
         7857
        ],
        [
         "Missouri",
         74412,
         61733,
         12679
        ],
        [
         "Montana",
         15091,
         13323,
         1768
        ],
        [
         "Nebraska",
         22137,
         19168,
         2969
        ],
        [
         "Nevada",
         34210,
         30276,
         3934
        ],
        [
         "New Hampshire",
         20064,
         17352,
         2712
        ],
        [
         "New Jersey",
         102636,
         91145,
         11491
        ],
        [
         "New Mexico",
         25232,
         21827,
         3405
        ],
        [
         "New York",
         222553,
         192618,
         29935
        ],
        [
         "North Carolina",
         120981,
         101757,
         19224
        ],
        [
         "North Dakota",
         8950,
         7847,
         1103
        ],
        [
         "Ohio",
         144515,
         122301,
         22214
        ],
        [
         "Oklahoma",
         45445,
         37252,
         8193
        ],
        [
         "Oregon",
         50364,
         44159,
         6205
        ],
        [
         "Pennsylvania",
         165809,
         141607,
         24202
        ],
        [
         "Rhode Island",
         13671,
         11496,
         2175
        ],
        [
         "South Carolina",
         65379,
         54487,
         10892
        ],
        [
         "South Dakota",
         11627,
         10386,
         1241
        ],
        [
         "Tennessee",
         81994,
         67620,
         14374
        ],
        [
         "Texas",
         286588,
         247738,
         38850
        ],
        [
         "Utah",
         27523,
         24322,
         3201
        ],
        [
         "Vermont",
         9151,
         8006,
         1145
        ],
        [
         "Virginia",
         96405,
         82730,
         13675
        ],
        [
         "Washington",
         86894,
         77076,
         9818
        ],
        [
         "West Virginia",
         23342,
         18597,
         4745
        ],
        [
         "Wisconsin",
         76199,
         65952,
         10247
        ],
        [
         "Wyoming",
         8012,
         7047,
         965
        ],
        [
         "BLANK",
         null,
         null,
         null
        ],
        [
         "Territories, Possessions, and Other",
         null,
         null,
         null
        ],
        [
         "Puerto Rico",
         30783,
         24796,
         5987
        ],
        [
         "Virgin Islands",
         1141,
         1027,
         114
        ],
        [
         "American Samoa",
         384,
         238,
         146
        ],
        [
         "Guam",
         1373,
         1194,
         179
        ],
        [
         "Northern Mariana Islands",
         272,
         226,
         46
        ],
        [
         "Foreign Countries and Other Outyling Areas",
         21622,
         21197,
         425
        ],
        [
         "Unknown",
         null,
         null,
         null
        ],
        [
         null,
         null,
         null,
         null
        ],
        [
         "* Counts between 1 and 10 have been suppressed because of CMS rules to protect the privacy of beneficiaries.",
         null,
         null,
         null
        ],
        [
         "† Counts have been cross-suppressed to prevent the recalculation of suppressed counts between 1 and 10.",
         null,
         null,
         null
        ],
        [
         null,
         null,
         null,
         null
        ],
        [
         "NOTE:  The enrollment counts are determined using an ever-enrolled methodology.",
         null,
         null,
         null
        ],
        [
         "BLANK",
         null,
         null,
         null
        ],
        [
         "SOURCE:  Centers for Medicare & Medicaid Services, Office of Enterprise Data and Analytics, CMS Chronic Conditions Data Warehouse.",
         null,
         null,
         null
        ],
        [
         null,
         null,
         null,
         null
        ]
       ],
       "datasetInfos": [],
       "dbfsResultPath": null,
       "isJsonSchema": true,
       "metadata": {},
       "overflow": false,
       "plotOptions": {
        "customPlotOptions": {},
        "displayType": "table",
        "pivotAggregation": null,
        "pivotColumns": null,
        "xColumns": null,
        "yColumns": null
       },
       "removedWidgets": [],
       "schema": [
        {
         "metadata": "{}",
         "name": "State",
         "type": "\"string\""
        },
        {
         "metadata": "{}",
         "name": "Enrollment_Total",
         "type": "\"integer\""
        },
        {
         "metadata": "{}",
         "name": "Enrollment_PartA",
         "type": "\"integer\""
        },
        {
         "metadata": "{}",
         "name": "Enrollment_PartB",
         "type": "\"integer\""
        }
       ],
       "type": "table"
      }
     },
     "output_type": "display_data"
    }
   ],
   "source": [
    "display(df)"
   ]
  },
  {
   "cell_type": "code",
   "execution_count": 0,
   "metadata": {
    "application/vnd.databricks.v1+cell": {
     "cellMetadata": {
      "byteLimit": 2048000,
      "rowLimit": 10000
     },
     "inputWidgets": {},
     "nuid": "8ae1aa7d-cec7-4cdb-8e79-720113b15ec5",
     "showTitle": false,
     "tableResultSettingsMap": {},
     "title": ""
    }
   },
   "outputs": [
    {
     "data": {
      "text/html": [
       "<style scoped>\n",
       "  .table-result-container {\n",
       "    max-height: 300px;\n",
       "    overflow: auto;\n",
       "  }\n",
       "  table, th, td {\n",
       "    border: 1px solid black;\n",
       "    border-collapse: collapse;\n",
       "  }\n",
       "  th, td {\n",
       "    padding: 5px;\n",
       "  }\n",
       "  th {\n",
       "    text-align: left;\n",
       "  }\n",
       "</style><div class='table-result-container'><table class='table-result'><thead style='background-color: white'><tr><th>State</th><th>Enrollment_Total</th><th>Enrollment_PartA</th><th>Enrollment_PartB</th></tr></thead><tbody><tr><td>Total, Aged, and Disabled Enrollees, by Area of Residence</td><td>null</td><td>null</td><td>null</td></tr><tr><td>Calendar Year 2021</td><td>null</td><td>null</td><td>null</td></tr><tr><td>Area of Residence</td><td>null</td><td>null</td><td>null</td></tr><tr><td>BLANK</td><td>null</td><td>null</td><td>null</td></tr><tr><td>All Areas</td><td>3832287</td><td>3301152</td><td>531135</td></tr><tr><td>United States</td><td>3776708</td><td>3252470</td><td>524238</td></tr><tr><td>BLANK</td><td>null</td><td>null</td><td>null</td></tr><tr><td>Alabama</td><td>59808</td><td>47060</td><td>12748</td></tr><tr><td>Alaska</td><td>8138</td><td>7257</td><td>881</td></tr><tr><td>Arizona</td><td>80238</td><td>71153</td><td>9085</td></tr><tr><td>Arkansas</td><td>35471</td><td>27496</td><td>7975</td></tr><tr><td>California</td><td>406086</td><td>365363</td><td>40723</td></tr><tr><td>Colorado</td><td>61867</td><td>56323</td><td>5544</td></tr><tr><td>Connecticut</td><td>42802</td><td>37899</td><td>4903</td></tr><tr><td>Delaware</td><td>13293</td><td>11703</td><td>1590</td></tr><tr><td>District of Columbia</td><td>5379</td><td>4617</td><td>762</td></tr><tr><td>Florida</td><td>276881</td><td>241140</td><td>35741</td></tr><tr><td>Georgia</td><td>112030</td><td>93174</td><td>18856</td></tr><tr><td>Hawaii</td><td>17451</td><td>16025</td><td>1426</td></tr><tr><td>Idaho</td><td>21915</td><td>18972</td><td>2943</td></tr><tr><td>Illinois</td><td>139815</td><td>121555</td><td>18260</td></tr><tr><td>Indiana</td><td>78305</td><td>65444</td><td>12861</td></tr><tr><td>Iowa</td><td>39141</td><td>33436</td><td>5705</td></tr><tr><td>Kansas</td><td>34498</td><td>29747</td><td>4751</td></tr><tr><td>Kentucky</td><td>52974</td><td>42165</td><td>10809</td></tr><tr><td>Louisiana</td><td>54481</td><td>44010</td><td>10471</td></tr><tr><td>Maine</td><td>20017</td><td>17442</td><td>2575</td></tr><tr><td>Maryland</td><td>67015</td><td>58682</td><td>8333</td></tr><tr><td>Massachusetts</td><td>80472</td><td>70381</td><td>10091</td></tr><tr><td>Michigan</td><td>127075</td><td>106963</td><td>20112</td></tr><tr><td>Minnesota</td><td>66446</td><td>58572</td><td>7874</td></tr><tr><td>Mississippi</td><td>35926</td><td>28069</td><td>7857</td></tr><tr><td>Missouri</td><td>74412</td><td>61733</td><td>12679</td></tr><tr><td>Montana</td><td>15091</td><td>13323</td><td>1768</td></tr><tr><td>Nebraska</td><td>22137</td><td>19168</td><td>2969</td></tr><tr><td>Nevada</td><td>34210</td><td>30276</td><td>3934</td></tr><tr><td>New Hampshire</td><td>20064</td><td>17352</td><td>2712</td></tr><tr><td>New Jersey</td><td>102636</td><td>91145</td><td>11491</td></tr><tr><td>New Mexico</td><td>25232</td><td>21827</td><td>3405</td></tr><tr><td>New York</td><td>222553</td><td>192618</td><td>29935</td></tr><tr><td>North Carolina</td><td>120981</td><td>101757</td><td>19224</td></tr><tr><td>North Dakota</td><td>8950</td><td>7847</td><td>1103</td></tr><tr><td>Ohio</td><td>144515</td><td>122301</td><td>22214</td></tr><tr><td>Oklahoma</td><td>45445</td><td>37252</td><td>8193</td></tr><tr><td>Oregon</td><td>50364</td><td>44159</td><td>6205</td></tr><tr><td>Pennsylvania</td><td>165809</td><td>141607</td><td>24202</td></tr><tr><td>Rhode Island</td><td>13671</td><td>11496</td><td>2175</td></tr><tr><td>South Carolina</td><td>65379</td><td>54487</td><td>10892</td></tr><tr><td>South Dakota</td><td>11627</td><td>10386</td><td>1241</td></tr><tr><td>Tennessee</td><td>81994</td><td>67620</td><td>14374</td></tr><tr><td>Texas</td><td>286588</td><td>247738</td><td>38850</td></tr><tr><td>Utah</td><td>27523</td><td>24322</td><td>3201</td></tr><tr><td>Vermont</td><td>9151</td><td>8006</td><td>1145</td></tr><tr><td>Virginia</td><td>96405</td><td>82730</td><td>13675</td></tr><tr><td>Washington</td><td>86894</td><td>77076</td><td>9818</td></tr><tr><td>West Virginia</td><td>23342</td><td>18597</td><td>4745</td></tr><tr><td>Wisconsin</td><td>76199</td><td>65952</td><td>10247</td></tr><tr><td>Wyoming</td><td>8012</td><td>7047</td><td>965</td></tr><tr><td>BLANK</td><td>null</td><td>null</td><td>null</td></tr><tr><td>Territories, Possessions, and Other</td><td>null</td><td>null</td><td>null</td></tr><tr><td>Puerto Rico</td><td>30783</td><td>24796</td><td>5987</td></tr><tr><td>Virgin Islands</td><td>1141</td><td>1027</td><td>114</td></tr><tr><td>American Samoa</td><td>384</td><td>238</td><td>146</td></tr><tr><td>Guam</td><td>1373</td><td>1194</td><td>179</td></tr><tr><td>Northern Mariana Islands</td><td>272</td><td>226</td><td>46</td></tr><tr><td>Foreign Countries and Other Outyling Areas</td><td>21622</td><td>21197</td><td>425</td></tr><tr><td>Unknown</td><td>null</td><td>null</td><td>null</td></tr><tr><td>null</td><td>null</td><td>null</td><td>null</td></tr><tr><td>* Counts between 1 and 10 have been suppressed because of CMS rules to protect the privacy of beneficiaries.</td><td>null</td><td>null</td><td>null</td></tr><tr><td>† Counts have been cross-suppressed to prevent the recalculation of suppressed counts between 1 and 10.</td><td>null</td><td>null</td><td>null</td></tr><tr><td>null</td><td>null</td><td>null</td><td>null</td></tr><tr><td>NOTE:  The enrollment counts are determined using an ever-enrolled methodology.</td><td>null</td><td>null</td><td>null</td></tr><tr><td>BLANK</td><td>null</td><td>null</td><td>null</td></tr><tr><td>SOURCE:  Centers for Medicare & Medicaid Services, Office of Enterprise Data and Analytics, CMS Chronic Conditions Data Warehouse.</td><td>null</td><td>null</td><td>null</td></tr><tr><td>null</td><td>null</td><td>null</td><td>null</td></tr></tbody></table></div>"
      ]
     },
     "metadata": {
      "application/vnd.databricks.v1+output": {
       "addedWidgets": {},
       "aggData": [],
       "aggError": "",
       "aggOverflow": false,
       "aggSchema": [],
       "aggSeriesLimitReached": false,
       "aggType": "",
       "arguments": {},
       "columnCustomDisplayInfos": {},
       "data": [
        [
         "Total, Aged, and Disabled Enrollees, by Area of Residence",
         null,
         null,
         null
        ],
        [
         "Calendar Year 2021",
         null,
         null,
         null
        ],
        [
         "Area of Residence",
         null,
         null,
         null
        ],
        [
         "BLANK",
         null,
         null,
         null
        ],
        [
         "All Areas",
         3832287,
         3301152,
         531135
        ],
        [
         "United States",
         3776708,
         3252470,
         524238
        ],
        [
         "BLANK",
         null,
         null,
         null
        ],
        [
         "Alabama",
         59808,
         47060,
         12748
        ],
        [
         "Alaska",
         8138,
         7257,
         881
        ],
        [
         "Arizona",
         80238,
         71153,
         9085
        ],
        [
         "Arkansas",
         35471,
         27496,
         7975
        ],
        [
         "California",
         406086,
         365363,
         40723
        ],
        [
         "Colorado",
         61867,
         56323,
         5544
        ],
        [
         "Connecticut",
         42802,
         37899,
         4903
        ],
        [
         "Delaware",
         13293,
         11703,
         1590
        ],
        [
         "District of Columbia",
         5379,
         4617,
         762
        ],
        [
         "Florida",
         276881,
         241140,
         35741
        ],
        [
         "Georgia",
         112030,
         93174,
         18856
        ],
        [
         "Hawaii",
         17451,
         16025,
         1426
        ],
        [
         "Idaho",
         21915,
         18972,
         2943
        ],
        [
         "Illinois",
         139815,
         121555,
         18260
        ],
        [
         "Indiana",
         78305,
         65444,
         12861
        ],
        [
         "Iowa",
         39141,
         33436,
         5705
        ],
        [
         "Kansas",
         34498,
         29747,
         4751
        ],
        [
         "Kentucky",
         52974,
         42165,
         10809
        ],
        [
         "Louisiana",
         54481,
         44010,
         10471
        ],
        [
         "Maine",
         20017,
         17442,
         2575
        ],
        [
         "Maryland",
         67015,
         58682,
         8333
        ],
        [
         "Massachusetts",
         80472,
         70381,
         10091
        ],
        [
         "Michigan",
         127075,
         106963,
         20112
        ],
        [
         "Minnesota",
         66446,
         58572,
         7874
        ],
        [
         "Mississippi",
         35926,
         28069,
         7857
        ],
        [
         "Missouri",
         74412,
         61733,
         12679
        ],
        [
         "Montana",
         15091,
         13323,
         1768
        ],
        [
         "Nebraska",
         22137,
         19168,
         2969
        ],
        [
         "Nevada",
         34210,
         30276,
         3934
        ],
        [
         "New Hampshire",
         20064,
         17352,
         2712
        ],
        [
         "New Jersey",
         102636,
         91145,
         11491
        ],
        [
         "New Mexico",
         25232,
         21827,
         3405
        ],
        [
         "New York",
         222553,
         192618,
         29935
        ],
        [
         "North Carolina",
         120981,
         101757,
         19224
        ],
        [
         "North Dakota",
         8950,
         7847,
         1103
        ],
        [
         "Ohio",
         144515,
         122301,
         22214
        ],
        [
         "Oklahoma",
         45445,
         37252,
         8193
        ],
        [
         "Oregon",
         50364,
         44159,
         6205
        ],
        [
         "Pennsylvania",
         165809,
         141607,
         24202
        ],
        [
         "Rhode Island",
         13671,
         11496,
         2175
        ],
        [
         "South Carolina",
         65379,
         54487,
         10892
        ],
        [
         "South Dakota",
         11627,
         10386,
         1241
        ],
        [
         "Tennessee",
         81994,
         67620,
         14374
        ],
        [
         "Texas",
         286588,
         247738,
         38850
        ],
        [
         "Utah",
         27523,
         24322,
         3201
        ],
        [
         "Vermont",
         9151,
         8006,
         1145
        ],
        [
         "Virginia",
         96405,
         82730,
         13675
        ],
        [
         "Washington",
         86894,
         77076,
         9818
        ],
        [
         "West Virginia",
         23342,
         18597,
         4745
        ],
        [
         "Wisconsin",
         76199,
         65952,
         10247
        ],
        [
         "Wyoming",
         8012,
         7047,
         965
        ],
        [
         "BLANK",
         null,
         null,
         null
        ],
        [
         "Territories, Possessions, and Other",
         null,
         null,
         null
        ],
        [
         "Puerto Rico",
         30783,
         24796,
         5987
        ],
        [
         "Virgin Islands",
         1141,
         1027,
         114
        ],
        [
         "American Samoa",
         384,
         238,
         146
        ],
        [
         "Guam",
         1373,
         1194,
         179
        ],
        [
         "Northern Mariana Islands",
         272,
         226,
         46
        ],
        [
         "Foreign Countries and Other Outyling Areas",
         21622,
         21197,
         425
        ],
        [
         "Unknown",
         null,
         null,
         null
        ],
        [
         null,
         null,
         null,
         null
        ],
        [
         "* Counts between 1 and 10 have been suppressed because of CMS rules to protect the privacy of beneficiaries.",
         null,
         null,
         null
        ],
        [
         "† Counts have been cross-suppressed to prevent the recalculation of suppressed counts between 1 and 10.",
         null,
         null,
         null
        ],
        [
         null,
         null,
         null,
         null
        ],
        [
         "NOTE:  The enrollment counts are determined using an ever-enrolled methodology.",
         null,
         null,
         null
        ],
        [
         "BLANK",
         null,
         null,
         null
        ],
        [
         "SOURCE:  Centers for Medicare & Medicaid Services, Office of Enterprise Data and Analytics, CMS Chronic Conditions Data Warehouse.",
         null,
         null,
         null
        ],
        [
         null,
         null,
         null,
         null
        ]
       ],
       "datasetInfos": [],
       "dbfsResultPath": null,
       "isJsonSchema": true,
       "metadata": {},
       "overflow": false,
       "plotOptions": {
        "customPlotOptions": {},
        "displayType": "table",
        "pivotAggregation": null,
        "pivotColumns": null,
        "xColumns": null,
        "yColumns": null
       },
       "removedWidgets": [],
       "schema": [
        {
         "metadata": "{}",
         "name": "State",
         "type": "\"string\""
        },
        {
         "metadata": "{}",
         "name": "Enrollment_Total",
         "type": "\"integer\""
        },
        {
         "metadata": "{}",
         "name": "Enrollment_PartA",
         "type": "\"integer\""
        },
        {
         "metadata": "{}",
         "name": "Enrollment_PartB",
         "type": "\"integer\""
        }
       ],
       "type": "table"
      }
     },
     "output_type": "display_data"
    }
   ],
   "source": [
    "df.createOrReplaceTempView(\"enrollment\")\n",
    "display(df)"
   ]
  },
  {
   "cell_type": "markdown",
   "metadata": {
    "application/vnd.databricks.v1+cell": {
     "cellMetadata": {
      "byteLimit": 2048000,
      "rowLimit": 10000
     },
     "inputWidgets": {},
     "nuid": "ac574ea8-6a22-421a-90bd-52f49b01909b",
     "showTitle": false,
     "tableResultSettingsMap": {},
     "title": ""
    }
   },
   "source": [
    "### **Cleaned data into new temp view**"
   ]
  },
  {
   "cell_type": "code",
   "execution_count": 0,
   "metadata": {
    "application/vnd.databricks.v1+cell": {
     "cellMetadata": {
      "byteLimit": 2048000,
      "implicitDf": true,
      "rowLimit": 10000
     },
     "inputWidgets": {},
     "nuid": "a79e80d6-0a2e-4d18-8c81-3ed1e686820c",
     "showTitle": false,
     "tableResultSettingsMap": {},
     "title": ""
    }
   },
   "outputs": [],
   "source": [
    "%sql\n",
    "CREATE OR REPLACE TEMP VIEW normalized_enrollment AS\n",
    "SELECT\n",
    "  TRIM(State) AS State,\n",
    "  CASE\n",
    "    WHEN Enrollment_Total IS NULL OR Enrollment_Total <= 10 THEN NULL\n",
    "    ELSE CAST(Enrollment_Total AS DOUBLE)\n",
    "  END AS Normalized_Total,\n",
    "  CASE\n",
    "    WHEN Enrollment_PartA IS NULL OR Enrollment_PartA <= 10 THEN NULL\n",
    "    ELSE CAST(Enrollment_PartA AS DOUBLE)\n",
    "  END AS Normalized_PartA,\n",
    "  CASE\n",
    "    WHEN Enrollment_PartB IS NULL OR Enrollment_PartB <= 10 THEN NULL\n",
    "    ELSE CAST(Enrollment_PartB AS DOUBLE)\n",
    "  END AS Normalized_PartB\n",
    "FROM\n",
    "  enrollment"
   ]
  },
  {
   "cell_type": "code",
   "execution_count": 0,
   "metadata": {
    "application/vnd.databricks.v1+cell": {
     "cellMetadata": {
      "byteLimit": 2048000,
      "implicitDf": true,
      "rowLimit": 10000
     },
     "inputWidgets": {},
     "nuid": "067e26e8-134a-4bb2-97bc-b260fcd3217f",
     "showTitle": false,
     "tableResultSettingsMap": {},
     "title": ""
    }
   },
   "outputs": [
    {
     "data": {
      "text/html": [
       "<style scoped>\n",
       "  .table-result-container {\n",
       "    max-height: 300px;\n",
       "    overflow: auto;\n",
       "  }\n",
       "  table, th, td {\n",
       "    border: 1px solid black;\n",
       "    border-collapse: collapse;\n",
       "  }\n",
       "  th, td {\n",
       "    padding: 5px;\n",
       "  }\n",
       "  th {\n",
       "    text-align: left;\n",
       "  }\n",
       "</style><div class='table-result-container'><table class='table-result'><thead style='background-color: white'><tr><th>State</th><th>Normalized_Total</th><th>Normalized_PartA</th><th>Normalized_PartB</th></tr></thead><tbody><tr><td>Total, Aged, and Disabled Enrollees, by Area of Residence</td><td>null</td><td>null</td><td>null</td></tr><tr><td>Calendar Year 2021</td><td>null</td><td>null</td><td>null</td></tr><tr><td>Area of Residence</td><td>null</td><td>null</td><td>null</td></tr><tr><td>BLANK</td><td>null</td><td>null</td><td>null</td></tr><tr><td>All Areas</td><td>3832287.0</td><td>3301152.0</td><td>531135.0</td></tr><tr><td>United States</td><td>3776708.0</td><td>3252470.0</td><td>524238.0</td></tr><tr><td>BLANK</td><td>null</td><td>null</td><td>null</td></tr><tr><td>Alabama</td><td>59808.0</td><td>47060.0</td><td>12748.0</td></tr><tr><td>Alaska</td><td>8138.0</td><td>7257.0</td><td>881.0</td></tr><tr><td>Arizona</td><td>80238.0</td><td>71153.0</td><td>9085.0</td></tr><tr><td>Arkansas</td><td>35471.0</td><td>27496.0</td><td>7975.0</td></tr><tr><td>California</td><td>406086.0</td><td>365363.0</td><td>40723.0</td></tr><tr><td>Colorado</td><td>61867.0</td><td>56323.0</td><td>5544.0</td></tr><tr><td>Connecticut</td><td>42802.0</td><td>37899.0</td><td>4903.0</td></tr><tr><td>Delaware</td><td>13293.0</td><td>11703.0</td><td>1590.0</td></tr><tr><td>District of Columbia</td><td>5379.0</td><td>4617.0</td><td>762.0</td></tr><tr><td>Florida</td><td>276881.0</td><td>241140.0</td><td>35741.0</td></tr><tr><td>Georgia</td><td>112030.0</td><td>93174.0</td><td>18856.0</td></tr><tr><td>Hawaii</td><td>17451.0</td><td>16025.0</td><td>1426.0</td></tr><tr><td>Idaho</td><td>21915.0</td><td>18972.0</td><td>2943.0</td></tr><tr><td>Illinois</td><td>139815.0</td><td>121555.0</td><td>18260.0</td></tr><tr><td>Indiana</td><td>78305.0</td><td>65444.0</td><td>12861.0</td></tr><tr><td>Iowa</td><td>39141.0</td><td>33436.0</td><td>5705.0</td></tr><tr><td>Kansas</td><td>34498.0</td><td>29747.0</td><td>4751.0</td></tr><tr><td>Kentucky</td><td>52974.0</td><td>42165.0</td><td>10809.0</td></tr><tr><td>Louisiana</td><td>54481.0</td><td>44010.0</td><td>10471.0</td></tr><tr><td>Maine</td><td>20017.0</td><td>17442.0</td><td>2575.0</td></tr><tr><td>Maryland</td><td>67015.0</td><td>58682.0</td><td>8333.0</td></tr><tr><td>Massachusetts</td><td>80472.0</td><td>70381.0</td><td>10091.0</td></tr><tr><td>Michigan</td><td>127075.0</td><td>106963.0</td><td>20112.0</td></tr><tr><td>Minnesota</td><td>66446.0</td><td>58572.0</td><td>7874.0</td></tr><tr><td>Mississippi</td><td>35926.0</td><td>28069.0</td><td>7857.0</td></tr><tr><td>Missouri</td><td>74412.0</td><td>61733.0</td><td>12679.0</td></tr><tr><td>Montana</td><td>15091.0</td><td>13323.0</td><td>1768.0</td></tr><tr><td>Nebraska</td><td>22137.0</td><td>19168.0</td><td>2969.0</td></tr><tr><td>Nevada</td><td>34210.0</td><td>30276.0</td><td>3934.0</td></tr><tr><td>New Hampshire</td><td>20064.0</td><td>17352.0</td><td>2712.0</td></tr><tr><td>New Jersey</td><td>102636.0</td><td>91145.0</td><td>11491.0</td></tr><tr><td>New Mexico</td><td>25232.0</td><td>21827.0</td><td>3405.0</td></tr><tr><td>New York</td><td>222553.0</td><td>192618.0</td><td>29935.0</td></tr><tr><td>North Carolina</td><td>120981.0</td><td>101757.0</td><td>19224.0</td></tr><tr><td>North Dakota</td><td>8950.0</td><td>7847.0</td><td>1103.0</td></tr><tr><td>Ohio</td><td>144515.0</td><td>122301.0</td><td>22214.0</td></tr><tr><td>Oklahoma</td><td>45445.0</td><td>37252.0</td><td>8193.0</td></tr><tr><td>Oregon</td><td>50364.0</td><td>44159.0</td><td>6205.0</td></tr><tr><td>Pennsylvania</td><td>165809.0</td><td>141607.0</td><td>24202.0</td></tr><tr><td>Rhode Island</td><td>13671.0</td><td>11496.0</td><td>2175.0</td></tr><tr><td>South Carolina</td><td>65379.0</td><td>54487.0</td><td>10892.0</td></tr><tr><td>South Dakota</td><td>11627.0</td><td>10386.0</td><td>1241.0</td></tr><tr><td>Tennessee</td><td>81994.0</td><td>67620.0</td><td>14374.0</td></tr><tr><td>Texas</td><td>286588.0</td><td>247738.0</td><td>38850.0</td></tr><tr><td>Utah</td><td>27523.0</td><td>24322.0</td><td>3201.0</td></tr><tr><td>Vermont</td><td>9151.0</td><td>8006.0</td><td>1145.0</td></tr><tr><td>Virginia</td><td>96405.0</td><td>82730.0</td><td>13675.0</td></tr><tr><td>Washington</td><td>86894.0</td><td>77076.0</td><td>9818.0</td></tr><tr><td>West Virginia</td><td>23342.0</td><td>18597.0</td><td>4745.0</td></tr><tr><td>Wisconsin</td><td>76199.0</td><td>65952.0</td><td>10247.0</td></tr><tr><td>Wyoming</td><td>8012.0</td><td>7047.0</td><td>965.0</td></tr><tr><td>BLANK</td><td>null</td><td>null</td><td>null</td></tr><tr><td>Territories, Possessions, and Other</td><td>null</td><td>null</td><td>null</td></tr><tr><td>Puerto Rico</td><td>30783.0</td><td>24796.0</td><td>5987.0</td></tr><tr><td>Virgin Islands</td><td>1141.0</td><td>1027.0</td><td>114.0</td></tr><tr><td>American Samoa</td><td>384.0</td><td>238.0</td><td>146.0</td></tr><tr><td>Guam</td><td>1373.0</td><td>1194.0</td><td>179.0</td></tr><tr><td>Northern Mariana Islands</td><td>272.0</td><td>226.0</td><td>46.0</td></tr><tr><td>Foreign Countries and Other Outyling Areas</td><td>21622.0</td><td>21197.0</td><td>425.0</td></tr><tr><td>Unknown</td><td>null</td><td>null</td><td>null</td></tr><tr><td>null</td><td>null</td><td>null</td><td>null</td></tr><tr><td>* Counts between 1 and 10 have been suppressed because of CMS rules to protect the privacy of beneficiaries.</td><td>null</td><td>null</td><td>null</td></tr><tr><td>† Counts have been cross-suppressed to prevent the recalculation of suppressed counts between 1 and 10.</td><td>null</td><td>null</td><td>null</td></tr><tr><td>null</td><td>null</td><td>null</td><td>null</td></tr><tr><td>NOTE:  The enrollment counts are determined using an ever-enrolled methodology.</td><td>null</td><td>null</td><td>null</td></tr><tr><td>BLANK</td><td>null</td><td>null</td><td>null</td></tr><tr><td>SOURCE:  Centers for Medicare & Medicaid Services, Office of Enterprise Data and Analytics, CMS Chronic Conditions Data Warehouse.</td><td>null</td><td>null</td><td>null</td></tr><tr><td>null</td><td>null</td><td>null</td><td>null</td></tr></tbody></table></div>"
      ]
     },
     "metadata": {
      "application/vnd.databricks.v1+output": {
       "addedWidgets": {},
       "aggData": [],
       "aggError": "",
       "aggOverflow": false,
       "aggSchema": [],
       "aggSeriesLimitReached": false,
       "aggType": "",
       "arguments": {},
       "columnCustomDisplayInfos": {},
       "data": [
        [
         "Total, Aged, and Disabled Enrollees, by Area of Residence",
         null,
         null,
         null
        ],
        [
         "Calendar Year 2021",
         null,
         null,
         null
        ],
        [
         "Area of Residence",
         null,
         null,
         null
        ],
        [
         "BLANK",
         null,
         null,
         null
        ],
        [
         "All Areas",
         3832287,
         3301152,
         531135
        ],
        [
         "United States",
         3776708,
         3252470,
         524238
        ],
        [
         "BLANK",
         null,
         null,
         null
        ],
        [
         "Alabama",
         59808,
         47060,
         12748
        ],
        [
         "Alaska",
         8138,
         7257,
         881
        ],
        [
         "Arizona",
         80238,
         71153,
         9085
        ],
        [
         "Arkansas",
         35471,
         27496,
         7975
        ],
        [
         "California",
         406086,
         365363,
         40723
        ],
        [
         "Colorado",
         61867,
         56323,
         5544
        ],
        [
         "Connecticut",
         42802,
         37899,
         4903
        ],
        [
         "Delaware",
         13293,
         11703,
         1590
        ],
        [
         "District of Columbia",
         5379,
         4617,
         762
        ],
        [
         "Florida",
         276881,
         241140,
         35741
        ],
        [
         "Georgia",
         112030,
         93174,
         18856
        ],
        [
         "Hawaii",
         17451,
         16025,
         1426
        ],
        [
         "Idaho",
         21915,
         18972,
         2943
        ],
        [
         "Illinois",
         139815,
         121555,
         18260
        ],
        [
         "Indiana",
         78305,
         65444,
         12861
        ],
        [
         "Iowa",
         39141,
         33436,
         5705
        ],
        [
         "Kansas",
         34498,
         29747,
         4751
        ],
        [
         "Kentucky",
         52974,
         42165,
         10809
        ],
        [
         "Louisiana",
         54481,
         44010,
         10471
        ],
        [
         "Maine",
         20017,
         17442,
         2575
        ],
        [
         "Maryland",
         67015,
         58682,
         8333
        ],
        [
         "Massachusetts",
         80472,
         70381,
         10091
        ],
        [
         "Michigan",
         127075,
         106963,
         20112
        ],
        [
         "Minnesota",
         66446,
         58572,
         7874
        ],
        [
         "Mississippi",
         35926,
         28069,
         7857
        ],
        [
         "Missouri",
         74412,
         61733,
         12679
        ],
        [
         "Montana",
         15091,
         13323,
         1768
        ],
        [
         "Nebraska",
         22137,
         19168,
         2969
        ],
        [
         "Nevada",
         34210,
         30276,
         3934
        ],
        [
         "New Hampshire",
         20064,
         17352,
         2712
        ],
        [
         "New Jersey",
         102636,
         91145,
         11491
        ],
        [
         "New Mexico",
         25232,
         21827,
         3405
        ],
        [
         "New York",
         222553,
         192618,
         29935
        ],
        [
         "North Carolina",
         120981,
         101757,
         19224
        ],
        [
         "North Dakota",
         8950,
         7847,
         1103
        ],
        [
         "Ohio",
         144515,
         122301,
         22214
        ],
        [
         "Oklahoma",
         45445,
         37252,
         8193
        ],
        [
         "Oregon",
         50364,
         44159,
         6205
        ],
        [
         "Pennsylvania",
         165809,
         141607,
         24202
        ],
        [
         "Rhode Island",
         13671,
         11496,
         2175
        ],
        [
         "South Carolina",
         65379,
         54487,
         10892
        ],
        [
         "South Dakota",
         11627,
         10386,
         1241
        ],
        [
         "Tennessee",
         81994,
         67620,
         14374
        ],
        [
         "Texas",
         286588,
         247738,
         38850
        ],
        [
         "Utah",
         27523,
         24322,
         3201
        ],
        [
         "Vermont",
         9151,
         8006,
         1145
        ],
        [
         "Virginia",
         96405,
         82730,
         13675
        ],
        [
         "Washington",
         86894,
         77076,
         9818
        ],
        [
         "West Virginia",
         23342,
         18597,
         4745
        ],
        [
         "Wisconsin",
         76199,
         65952,
         10247
        ],
        [
         "Wyoming",
         8012,
         7047,
         965
        ],
        [
         "BLANK",
         null,
         null,
         null
        ],
        [
         "Territories, Possessions, and Other",
         null,
         null,
         null
        ],
        [
         "Puerto Rico",
         30783,
         24796,
         5987
        ],
        [
         "Virgin Islands",
         1141,
         1027,
         114
        ],
        [
         "American Samoa",
         384,
         238,
         146
        ],
        [
         "Guam",
         1373,
         1194,
         179
        ],
        [
         "Northern Mariana Islands",
         272,
         226,
         46
        ],
        [
         "Foreign Countries and Other Outyling Areas",
         21622,
         21197,
         425
        ],
        [
         "Unknown",
         null,
         null,
         null
        ],
        [
         null,
         null,
         null,
         null
        ],
        [
         "* Counts between 1 and 10 have been suppressed because of CMS rules to protect the privacy of beneficiaries.",
         null,
         null,
         null
        ],
        [
         "† Counts have been cross-suppressed to prevent the recalculation of suppressed counts between 1 and 10.",
         null,
         null,
         null
        ],
        [
         null,
         null,
         null,
         null
        ],
        [
         "NOTE:  The enrollment counts are determined using an ever-enrolled methodology.",
         null,
         null,
         null
        ],
        [
         "BLANK",
         null,
         null,
         null
        ],
        [
         "SOURCE:  Centers for Medicare & Medicaid Services, Office of Enterprise Data and Analytics, CMS Chronic Conditions Data Warehouse.",
         null,
         null,
         null
        ],
        [
         null,
         null,
         null,
         null
        ]
       ],
       "datasetInfos": [
        {
         "name": "_sqldf",
         "schema": {
          "fields": [
           {
            "metadata": {},
            "name": "State",
            "nullable": true,
            "type": "string"
           },
           {
            "metadata": {},
            "name": "Normalized_Total",
            "nullable": true,
            "type": "double"
           },
           {
            "metadata": {},
            "name": "Normalized_PartA",
            "nullable": true,
            "type": "double"
           },
           {
            "metadata": {},
            "name": "Normalized_PartB",
            "nullable": true,
            "type": "double"
           }
          ],
          "type": "struct"
         },
         "tableIdentifier": null,
         "typeStr": "pyspark.sql.dataframe.DataFrame"
        }
       ],
       "dbfsResultPath": null,
       "isJsonSchema": true,
       "metadata": {
        "createTempViewForImplicitDf": true,
        "dataframeName": "_sqldf",
        "executionCount": 74
       },
       "overflow": false,
       "plotOptions": {
        "customPlotOptions": {},
        "displayType": "table",
        "pivotAggregation": null,
        "pivotColumns": null,
        "xColumns": null,
        "yColumns": null
       },
       "removedWidgets": [],
       "schema": [
        {
         "metadata": "{}",
         "name": "State",
         "type": "\"string\""
        },
        {
         "metadata": "{}",
         "name": "Normalized_Total",
         "type": "\"double\""
        },
        {
         "metadata": "{}",
         "name": "Normalized_PartA",
         "type": "\"double\""
        },
        {
         "metadata": "{}",
         "name": "Normalized_PartB",
         "type": "\"double\""
        }
       ],
       "type": "table"
      }
     },
     "output_type": "display_data"
    }
   ],
   "source": [
    "%sql\n",
    "SELECT *\n",
    "FROM normalized_enrollment"
   ]
  },
  {
   "cell_type": "markdown",
   "metadata": {
    "application/vnd.databricks.v1+cell": {
     "cellMetadata": {
      "byteLimit": 2048000,
      "rowLimit": 10000
     },
     "inputWidgets": {},
     "nuid": "42d48fa7-2823-4b09-af5a-5c699ac23e41",
     "showTitle": false,
     "tableResultSettingsMap": {},
     "title": ""
    }
   },
   "source": [
    "### **Range Calculation**"
   ]
  },
  {
   "cell_type": "code",
   "execution_count": 0,
   "metadata": {
    "application/vnd.databricks.v1+cell": {
     "cellMetadata": {
      "byteLimit": 2048000,
      "implicitDf": true,
      "rowLimit": 10000
     },
     "inputWidgets": {},
     "nuid": "eba41662-c827-405c-9755-684aae94448b",
     "showTitle": false,
     "tableResultSettingsMap": {},
     "title": ""
    }
   },
   "outputs": [
    {
     "data": {
      "text/html": [
       "<style scoped>\n",
       "  .table-result-container {\n",
       "    max-height: 300px;\n",
       "    overflow: auto;\n",
       "  }\n",
       "  table, th, td {\n",
       "    border: 1px solid black;\n",
       "    border-collapse: collapse;\n",
       "  }\n",
       "  th, td {\n",
       "    padding: 5px;\n",
       "  }\n",
       "  th {\n",
       "    text-align: left;\n",
       "  }\n",
       "</style><div class='table-result-container'><table class='table-result'><thead style='background-color: white'><tr><th>PartA_Enrollment_Range</th><th>PartB_Enrollment_Range</th></tr></thead><tbody><tr><td>3300926.0</td><td>531089.0</td></tr></tbody></table></div>"
      ]
     },
     "metadata": {
      "application/vnd.databricks.v1+output": {
       "addedWidgets": {},
       "aggData": [],
       "aggError": "",
       "aggOverflow": false,
       "aggSchema": [],
       "aggSeriesLimitReached": false,
       "aggType": "",
       "arguments": {},
       "columnCustomDisplayInfos": {},
       "data": [
        [
         3300926,
         531089
        ]
       ],
       "datasetInfos": [
        {
         "name": "_sqldf",
         "schema": {
          "fields": [
           {
            "metadata": {},
            "name": "PartA_Enrollment_Range",
            "nullable": true,
            "type": "double"
           },
           {
            "metadata": {},
            "name": "PartB_Enrollment_Range",
            "nullable": true,
            "type": "double"
           }
          ],
          "type": "struct"
         },
         "tableIdentifier": null,
         "typeStr": "pyspark.sql.dataframe.DataFrame"
        }
       ],
       "dbfsResultPath": null,
       "isJsonSchema": true,
       "metadata": {
        "createTempViewForImplicitDf": true,
        "dataframeName": "_sqldf",
        "executionCount": 75
       },
       "overflow": false,
       "plotOptions": {
        "customPlotOptions": {},
        "displayType": "table",
        "pivotAggregation": null,
        "pivotColumns": null,
        "xColumns": null,
        "yColumns": null
       },
       "removedWidgets": [],
       "schema": [
        {
         "metadata": "{}",
         "name": "PartA_Enrollment_Range",
         "type": "\"double\""
        },
        {
         "metadata": "{}",
         "name": "PartB_Enrollment_Range",
         "type": "\"double\""
        }
       ],
       "type": "table"
      }
     },
     "output_type": "display_data"
    }
   ],
   "source": [
    "%sql\n",
    "WITH PartA_Comparison AS (\n",
    "  SELECT\n",
    "    MAX(Normalized_PartA) - MIN(Normalized_PartA) AS PartA_Range\n",
    "  FROM normalized_enrollment\n",
    "),\n",
    "PartB_Comparison AS (\n",
    "  SELECT\n",
    "    MAX(Normalized_PartB) - MIN(Normalized_PartB) AS PartB_Range\n",
    "  FROM normalized_enrollment\n",
    ")\n",
    "SELECT\n",
    "  (SELECT PartA_Range FROM PartA_Comparison) AS PartA_Enrollment_Range,\n",
    "  (SELECT PartB_Range FROM PartB_Comparison) AS PartB_Enrollment_Range;\n"
   ]
  },
  {
   "cell_type": "markdown",
   "metadata": {
    "application/vnd.databricks.v1+cell": {
     "cellMetadata": {
      "byteLimit": 2048000,
      "rowLimit": 10000
     },
     "inputWidgets": {},
     "nuid": "e52f77e3-2aee-499a-ae00-449465ef8b50",
     "showTitle": false,
     "tableResultSettingsMap": {},
     "title": ""
    }
   },
   "source": [
    "### **Totals and Ratios**"
   ]
  },
  {
   "cell_type": "code",
   "execution_count": 0,
   "metadata": {
    "application/vnd.databricks.v1+cell": {
     "cellMetadata": {
      "byteLimit": 2048000,
      "implicitDf": true,
      "rowLimit": 10000
     },
     "inputWidgets": {},
     "nuid": "30d57aa0-1ced-42f3-b6df-3a690984a1f2",
     "showTitle": false,
     "tableResultSettingsMap": {},
     "title": ""
    }
   },
   "outputs": [
    {
     "data": {
      "text/html": [
       "<style scoped>\n",
       "  .table-result-container {\n",
       "    max-height: 300px;\n",
       "    overflow: auto;\n",
       "  }\n",
       "  table, th, td {\n",
       "    border: 1px solid black;\n",
       "    border-collapse: collapse;\n",
       "  }\n",
       "  th, td {\n",
       "    padding: 5px;\n",
       "  }\n",
       "  th {\n",
       "    text-align: left;\n",
       "  }\n",
       "</style><div class='table-result-container'><table class='table-result'><thead style='background-color: white'><tr><th>State</th><th>Total_Enrollment</th><th>PartA_to_Total_Ratio</th><th>PartB_to_Total_Ratio</th></tr></thead><tbody><tr><td>null</td><td>null</td><td>null</td><td>null</td></tr><tr><td>* Counts between 1 and 10 have been suppressed because of CMS rules to protect the privacy of beneficiaries.</td><td>null</td><td>null</td><td>null</td></tr><tr><td>Alabama</td><td>59808</td><td>0.7868512573568753</td><td>0.21314874264312467</td></tr><tr><td>Alaska</td><td>8138</td><td>0.8917424428606537</td><td>0.10825755713934627</td></tr><tr><td>All Areas</td><td>3832287</td><td>0.8614052131273049</td><td>0.13859478687269508</td></tr><tr><td>American Samoa</td><td>384</td><td>0.6197916666666666</td><td>0.3802083333333333</td></tr><tr><td>Area of Residence</td><td>null</td><td>null</td><td>null</td></tr><tr><td>Arizona</td><td>80238</td><td>0.8867743463196989</td><td>0.1132256536803011</td></tr><tr><td>Arkansas</td><td>35471</td><td>0.7751684474641256</td><td>0.22483155253587436</td></tr><tr><td>BLANK</td><td>null</td><td>null</td><td>null</td></tr><tr><td>Calendar Year 2021</td><td>null</td><td>null</td><td>null</td></tr><tr><td>California</td><td>406086</td><td>0.899718286274336</td><td>0.10028171372566402</td></tr><tr><td>Colorado</td><td>61867</td><td>0.9103884138555288</td><td>0.0896115861444712</td></tr><tr><td>Connecticut</td><td>42802</td><td>0.8854492780711182</td><td>0.11455072192888183</td></tr><tr><td>Delaware</td><td>13293</td><td>0.8803881742270367</td><td>0.11961182577296321</td></tr><tr><td>District of Columbia</td><td>5379</td><td>0.8583379810373676</td><td>0.14166201896263245</td></tr><tr><td>Florida</td><td>276881</td><td>0.8709156641300776</td><td>0.12908433586992246</td></tr><tr><td>Foreign Countries and Other Outyling Areas</td><td>21622</td><td>0.9803440939783554</td><td>0.01965590602164462</td></tr><tr><td>Georgia</td><td>112030</td><td>0.8316879407301616</td><td>0.16831205926983844</td></tr><tr><td>Guam</td><td>1373</td><td>0.8696285506190823</td><td>0.1303714493809177</td></tr><tr><td>Hawaii</td><td>17451</td><td>0.9182854850724886</td><td>0.08171451492751132</td></tr><tr><td>Idaho</td><td>21915</td><td>0.8657084188911705</td><td>0.13429158110882958</td></tr><tr><td>Illinois</td><td>139815</td><td>0.8693988484783464</td><td>0.1306011515216536</td></tr><tr><td>Indiana</td><td>78305</td><td>0.8357576144562927</td><td>0.1642423855437073</td></tr><tr><td>Iowa</td><td>39141</td><td>0.8542449094300094</td><td>0.14575509056999056</td></tr><tr><td>Kansas</td><td>34498</td><td>0.8622818714128355</td><td>0.13771812858716448</td></tr><tr><td>Kentucky</td><td>52974</td><td>0.7959565069656813</td><td>0.20404349303431873</td></tr><tr><td>Louisiana</td><td>54481</td><td>0.8078045557166719</td><td>0.19219544428332813</td></tr><tr><td>Maine</td><td>20017</td><td>0.8713593445571265</td><td>0.12864065544287356</td></tr><tr><td>Maryland</td><td>67015</td><td>0.875654704170708</td><td>0.12434529582929195</td></tr><tr><td>Massachusetts</td><td>80472</td><td>0.8746023461576697</td><td>0.12539765384233026</td></tr><tr><td>Michigan</td><td>127075</td><td>0.8417312610662995</td><td>0.15826873893370058</td></tr><tr><td>Minnesota</td><td>66446</td><td>0.8814977575775818</td><td>0.1185022424224182</td></tr><tr><td>Mississippi</td><td>35926</td><td>0.7813004509269053</td><td>0.2186995490730947</td></tr><tr><td>Missouri</td><td>74412</td><td>0.829610815459872</td><td>0.17038918454012794</td></tr><tr><td>Montana</td><td>15091</td><td>0.8828440792525346</td><td>0.11715592074746538</td></tr><tr><td>NOTE:  The enrollment counts are determined using an ever-enrolled methodology.</td><td>null</td><td>null</td><td>null</td></tr><tr><td>Nebraska</td><td>22137</td><td>0.8658806523015765</td><td>0.13411934769842346</td></tr><tr><td>Nevada</td><td>34210</td><td>0.8850043846828413</td><td>0.11499561531715873</td></tr><tr><td>New Hampshire</td><td>20064</td><td>0.8648325358851675</td><td>0.13516746411483255</td></tr><tr><td>New Jersey</td><td>102636</td><td>0.8880412330956</td><td>0.11195876690440001</td></tr><tr><td>New Mexico</td><td>25232</td><td>0.8650523145212429</td><td>0.13494768547875713</td></tr><tr><td>New York</td><td>222553</td><td>0.8654927140950694</td><td>0.13450728590493052</td></tr><tr><td>North Carolina</td><td>120981</td><td>0.8410990155478959</td><td>0.15890098445210404</td></tr><tr><td>North Dakota</td><td>8950</td><td>0.8767597765363129</td><td>0.12324022346368715</td></tr><tr><td>Northern Mariana Islands</td><td>272</td><td>0.8308823529411765</td><td>0.16911764705882354</td></tr><tr><td>Ohio</td><td>144515</td><td>0.8462858526796526</td><td>0.15371414732034736</td></tr><tr><td>Oklahoma</td><td>45445</td><td>0.8197161403894818</td><td>0.1802838596105182</td></tr><tr><td>Oregon</td><td>50364</td><td>0.8767969184338019</td><td>0.12320308156619808</td></tr><tr><td>Pennsylvania</td><td>165809</td><td>0.8540368737523295</td><td>0.14596312624767052</td></tr><tr><td>Puerto Rico</td><td>30783</td><td>0.8055095344833187</td><td>0.19449046551668128</td></tr><tr><td>Rhode Island</td><td>13671</td><td>0.8409041035769146</td><td>0.15909589642308536</td></tr><tr><td>SOURCE:  Centers for Medicare & Medicaid Services, Office of Enterprise Data and Analytics, CMS Chronic Conditions Data Warehouse.</td><td>null</td><td>null</td><td>null</td></tr><tr><td>South Carolina</td><td>65379</td><td>0.8334021627739794</td><td>0.1665978372260206</td></tr><tr><td>South Dakota</td><td>11627</td><td>0.8932656747226284</td><td>0.10673432527737163</td></tr><tr><td>Tennessee</td><td>81994</td><td>0.82469448984072</td><td>0.17530551015927995</td></tr><tr><td>Territories, Possessions, and Other</td><td>null</td><td>null</td><td>null</td></tr><tr><td>Texas</td><td>286588</td><td>0.8644395438748308</td><td>0.13556045612516923</td></tr><tr><td>Total, Aged, and Disabled Enrollees, by Area of Residence</td><td>null</td><td>null</td><td>null</td></tr><tr><td>United States</td><td>3776708</td><td>0.8611918104338487</td><td>0.13880818956615126</td></tr><tr><td>Unknown</td><td>null</td><td>null</td><td>null</td></tr><tr><td>Utah</td><td>27523</td><td>0.8836972713730334</td><td>0.11630272862696654</td></tr><tr><td>Vermont</td><td>9151</td><td>0.8748770626161075</td><td>0.12512293738389246</td></tr><tr><td>Virgin Islands</td><td>1141</td><td>0.9000876424189308</td><td>0.09991235758106924</td></tr><tr><td>Virginia</td><td>96405</td><td>0.858150510865619</td><td>0.141849489134381</td></tr><tr><td>Washington</td><td>86894</td><td>0.8870117614564872</td><td>0.11298823854351278</td></tr><tr><td>West Virginia</td><td>23342</td><td>0.7967183617513495</td><td>0.2032816382486505</td></tr><tr><td>Wisconsin</td><td>76199</td><td>0.8655231695954015</td><td>0.13447683040459849</td></tr><tr><td>Wyoming</td><td>8012</td><td>0.8795556665002496</td><td>0.12044433349975038</td></tr><tr><td>† Counts have been cross-suppressed to prevent the recalculation of suppressed counts between 1 and 10.</td><td>null</td><td>null</td><td>null</td></tr></tbody></table></div>"
      ]
     },
     "metadata": {
      "application/vnd.databricks.v1+output": {
       "addedWidgets": {},
       "aggData": [],
       "aggError": "",
       "aggOverflow": false,
       "aggSchema": [],
       "aggSeriesLimitReached": false,
       "aggType": "",
       "arguments": {},
       "columnCustomDisplayInfos": {},
       "data": [
        [
         null,
         null,
         null,
         null
        ],
        [
         "* Counts between 1 and 10 have been suppressed because of CMS rules to protect the privacy of beneficiaries.",
         null,
         null,
         null
        ],
        [
         "Alabama",
         59808,
         0.7868512573568753,
         0.21314874264312467
        ],
        [
         "Alaska",
         8138,
         0.8917424428606537,
         0.10825755713934627
        ],
        [
         "All Areas",
         3832287,
         0.8614052131273049,
         0.13859478687269508
        ],
        [
         "American Samoa",
         384,
         0.6197916666666666,
         0.3802083333333333
        ],
        [
         "Area of Residence",
         null,
         null,
         null
        ],
        [
         "Arizona",
         80238,
         0.8867743463196989,
         0.1132256536803011
        ],
        [
         "Arkansas",
         35471,
         0.7751684474641256,
         0.22483155253587436
        ],
        [
         "BLANK",
         null,
         null,
         null
        ],
        [
         "Calendar Year 2021",
         null,
         null,
         null
        ],
        [
         "California",
         406086,
         0.899718286274336,
         0.10028171372566402
        ],
        [
         "Colorado",
         61867,
         0.9103884138555288,
         0.0896115861444712
        ],
        [
         "Connecticut",
         42802,
         0.8854492780711182,
         0.11455072192888183
        ],
        [
         "Delaware",
         13293,
         0.8803881742270367,
         0.11961182577296321
        ],
        [
         "District of Columbia",
         5379,
         0.8583379810373676,
         0.14166201896263245
        ],
        [
         "Florida",
         276881,
         0.8709156641300776,
         0.12908433586992246
        ],
        [
         "Foreign Countries and Other Outyling Areas",
         21622,
         0.9803440939783554,
         0.01965590602164462
        ],
        [
         "Georgia",
         112030,
         0.8316879407301616,
         0.16831205926983844
        ],
        [
         "Guam",
         1373,
         0.8696285506190823,
         0.1303714493809177
        ],
        [
         "Hawaii",
         17451,
         0.9182854850724886,
         0.08171451492751132
        ],
        [
         "Idaho",
         21915,
         0.8657084188911705,
         0.13429158110882958
        ],
        [
         "Illinois",
         139815,
         0.8693988484783464,
         0.1306011515216536
        ],
        [
         "Indiana",
         78305,
         0.8357576144562927,
         0.1642423855437073
        ],
        [
         "Iowa",
         39141,
         0.8542449094300094,
         0.14575509056999056
        ],
        [
         "Kansas",
         34498,
         0.8622818714128355,
         0.13771812858716448
        ],
        [
         "Kentucky",
         52974,
         0.7959565069656813,
         0.20404349303431873
        ],
        [
         "Louisiana",
         54481,
         0.8078045557166719,
         0.19219544428332813
        ],
        [
         "Maine",
         20017,
         0.8713593445571265,
         0.12864065544287356
        ],
        [
         "Maryland",
         67015,
         0.875654704170708,
         0.12434529582929195
        ],
        [
         "Massachusetts",
         80472,
         0.8746023461576697,
         0.12539765384233026
        ],
        [
         "Michigan",
         127075,
         0.8417312610662995,
         0.15826873893370058
        ],
        [
         "Minnesota",
         66446,
         0.8814977575775818,
         0.1185022424224182
        ],
        [
         "Mississippi",
         35926,
         0.7813004509269053,
         0.2186995490730947
        ],
        [
         "Missouri",
         74412,
         0.829610815459872,
         0.17038918454012794
        ],
        [
         "Montana",
         15091,
         0.8828440792525346,
         0.11715592074746538
        ],
        [
         "NOTE:  The enrollment counts are determined using an ever-enrolled methodology.",
         null,
         null,
         null
        ],
        [
         "Nebraska",
         22137,
         0.8658806523015765,
         0.13411934769842346
        ],
        [
         "Nevada",
         34210,
         0.8850043846828413,
         0.11499561531715873
        ],
        [
         "New Hampshire",
         20064,
         0.8648325358851675,
         0.13516746411483255
        ],
        [
         "New Jersey",
         102636,
         0.8880412330956,
         0.11195876690440001
        ],
        [
         "New Mexico",
         25232,
         0.8650523145212429,
         0.13494768547875713
        ],
        [
         "New York",
         222553,
         0.8654927140950694,
         0.13450728590493052
        ],
        [
         "North Carolina",
         120981,
         0.8410990155478959,
         0.15890098445210404
        ],
        [
         "North Dakota",
         8950,
         0.8767597765363129,
         0.12324022346368715
        ],
        [
         "Northern Mariana Islands",
         272,
         0.8308823529411765,
         0.16911764705882354
        ],
        [
         "Ohio",
         144515,
         0.8462858526796526,
         0.15371414732034736
        ],
        [
         "Oklahoma",
         45445,
         0.8197161403894818,
         0.1802838596105182
        ],
        [
         "Oregon",
         50364,
         0.8767969184338019,
         0.12320308156619808
        ],
        [
         "Pennsylvania",
         165809,
         0.8540368737523295,
         0.14596312624767052
        ],
        [
         "Puerto Rico",
         30783,
         0.8055095344833187,
         0.19449046551668128
        ],
        [
         "Rhode Island",
         13671,
         0.8409041035769146,
         0.15909589642308536
        ],
        [
         "SOURCE:  Centers for Medicare & Medicaid Services, Office of Enterprise Data and Analytics, CMS Chronic Conditions Data Warehouse.",
         null,
         null,
         null
        ],
        [
         "South Carolina",
         65379,
         0.8334021627739794,
         0.1665978372260206
        ],
        [
         "South Dakota",
         11627,
         0.8932656747226284,
         0.10673432527737163
        ],
        [
         "Tennessee",
         81994,
         0.82469448984072,
         0.17530551015927995
        ],
        [
         "Territories, Possessions, and Other",
         null,
         null,
         null
        ],
        [
         "Texas",
         286588,
         0.8644395438748308,
         0.13556045612516923
        ],
        [
         "Total, Aged, and Disabled Enrollees, by Area of Residence",
         null,
         null,
         null
        ],
        [
         "United States",
         3776708,
         0.8611918104338487,
         0.13880818956615126
        ],
        [
         "Unknown",
         null,
         null,
         null
        ],
        [
         "Utah",
         27523,
         0.8836972713730334,
         0.11630272862696654
        ],
        [
         "Vermont",
         9151,
         0.8748770626161075,
         0.12512293738389246
        ],
        [
         "Virgin Islands",
         1141,
         0.9000876424189308,
         0.09991235758106924
        ],
        [
         "Virginia",
         96405,
         0.858150510865619,
         0.141849489134381
        ],
        [
         "Washington",
         86894,
         0.8870117614564872,
         0.11298823854351278
        ],
        [
         "West Virginia",
         23342,
         0.7967183617513495,
         0.2032816382486505
        ],
        [
         "Wisconsin",
         76199,
         0.8655231695954015,
         0.13447683040459849
        ],
        [
         "Wyoming",
         8012,
         0.8795556665002496,
         0.12044433349975038
        ],
        [
         "† Counts have been cross-suppressed to prevent the recalculation of suppressed counts between 1 and 10.",
         null,
         null,
         null
        ]
       ],
       "datasetInfos": [
        {
         "name": "_sqldf",
         "schema": {
          "fields": [
           {
            "metadata": {},
            "name": "State",
            "nullable": true,
            "type": "string"
           },
           {
            "metadata": {},
            "name": "Total_Enrollment",
            "nullable": true,
            "type": "long"
           },
           {
            "metadata": {},
            "name": "PartA_to_Total_Ratio",
            "nullable": true,
            "type": "double"
           },
           {
            "metadata": {},
            "name": "PartB_to_Total_Ratio",
            "nullable": true,
            "type": "double"
           }
          ],
          "type": "struct"
         },
         "tableIdentifier": null,
         "typeStr": "pyspark.sql.dataframe.DataFrame"
        }
       ],
       "dbfsResultPath": null,
       "isJsonSchema": true,
       "metadata": {
        "createTempViewForImplicitDf": true,
        "dataframeName": "_sqldf",
        "executionCount": 76
       },
       "overflow": false,
       "plotOptions": {
        "customPlotOptions": {},
        "displayType": "table",
        "pivotAggregation": null,
        "pivotColumns": null,
        "xColumns": null,
        "yColumns": null
       },
       "removedWidgets": [],
       "schema": [
        {
         "metadata": "{}",
         "name": "State",
         "type": "\"string\""
        },
        {
         "metadata": "{}",
         "name": "Total_Enrollment",
         "type": "\"long\""
        },
        {
         "metadata": "{}",
         "name": "PartA_to_Total_Ratio",
         "type": "\"double\""
        },
        {
         "metadata": "{}",
         "name": "PartB_to_Total_Ratio",
         "type": "\"double\""
        }
       ],
       "type": "table"
      }
     },
     "output_type": "display_data"
    }
   ],
   "source": [
    "%sql\n",
    " SELECT\n",
    "        State,\n",
    "        SUM(Enrollment_Total) AS Total_Enrollment,\n",
    "        (SUM(Enrollment_PartA) / SUM(Enrollment_Total)) AS PartA_to_Total_Ratio,\n",
    "        (SUM(Enrollment_PartB) / SUM(Enrollment_Total)) AS PartB_to_Total_Ratio\n",
    "    FROM\n",
    "       enrollment\n",
    "    GROUP BY\n",
    "        State\n",
    "    ORDER BY\n",
    "        State"
   ]
  },
  {
   "cell_type": "code",
   "execution_count": 0,
   "metadata": {
    "application/vnd.databricks.v1+cell": {
     "cellMetadata": {
      "byteLimit": 2048000,
      "rowLimit": 10000
     },
     "inputWidgets": {},
     "nuid": "7326e5a1-a92a-48a6-ad86-0f377e48e0bd",
     "showTitle": false,
     "tableResultSettingsMap": {},
     "title": ""
    }
   },
   "outputs": [],
   "source": [
    "normalized_df = spark.sql(\"SELECT * FROM normalized_enrollment\")\n",
    "normalized_df.write.format(\"delta\")\\\n",
    "        .mode(\"overwrite\")\\\n",
    "        .save(\"abfss://silver@medicarestorageacct.dfs.core.windows.net/normalized_enrollment\")"
   ]
  }
 ],
 "metadata": {
  "application/vnd.databricks.v1+notebook": {
   "computePreferences": null,
   "dashboards": [],
   "environmentMetadata": {
    "base_environment": "",
    "environment_version": "3"
   },
   "inputWidgetPreferences": null,
   "language": "python",
   "notebookMetadata": {
    "mostRecentlyExecutedCommandWithImplicitDF": {
     "commandId": 7306102031170410,
     "dataframes": [
      "_sqldf"
     ]
    },
    "pythonIndentUnit": 4
   },
   "notebookName": "Silver_Layer",
   "widgets": {}
  },
  "language_info": {
   "name": "python"
  }
 },
 "nbformat": 4,
 "nbformat_minor": 0
}
