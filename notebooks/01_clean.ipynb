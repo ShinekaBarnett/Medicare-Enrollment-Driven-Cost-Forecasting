{
 "cells": [
  {
   "cell_type": "code",
   "execution_count": null,
   "id": "729e097c",
   "metadata": {},
   "outputs": [
    {
     "name": "stdout",
     "output_type": "stream",
     "text": [
      "Excel file converted to CSV and saved at: c:\\Users\\shine\\Projects\\Medicare_Enrollment_Pipeline_A_Databricks_Healthcare_Project\\Medicare_Enrollment_Pipeline_A_Databricks_Healthcare_Project\\data\\processed\\CPS_MDCR_ENROLL_AB_21-32_2021_filtered.csv\n"
     ]
    }
   ],
   "source": [
    "from pathlib import Path\n",
    "from configparser import ConfigParser\n",
    "import pandas as pd\n",
    "\n",
    "\n",
    "config_path = Path.cwd().parent / 'config' / 'config.ini'\n",
    "parser = ConfigParser()\n",
    "parser.read(config_path)\n",
    "\n",
    "\n",
    "cms_data_path = Path(parser['paths']['cms_data'])\n",
    "\n",
    "df = pd.read_excel(cms_data_path)\n",
    "\n",
    "output_folder = Path.cwd().parent / 'data' / 'processed'\n",
    "output_folder.mkdir(parents=True, exist_ok=True)\n",
    "\n",
    "csv_output_path = output_folder / cms_data_path.with_suffix('.csv').name\n",
    "\n",
    "# Save as CSV\n",
    "df.to_csv(csv_output_path, index=False)\n"
   ]
  },
  {
   "cell_type": "code",
   "execution_count": null,
   "id": "5d125eda",
   "metadata": {},
   "outputs": [],
   "source": []
  }
 ],
 "metadata": {
  "kernelspec": {
   "display_name": "Python 3",
   "language": "python",
   "name": "python3"
  },
  "language_info": {
   "codemirror_mode": {
    "name": "ipython",
    "version": 3
   },
   "file_extension": ".py",
   "mimetype": "text/x-python",
   "name": "python",
   "nbconvert_exporter": "python",
   "pygments_lexer": "ipython3",
   "version": "3.13.7"
  }
 },
 "nbformat": 4,
 "nbformat_minor": 5
}
