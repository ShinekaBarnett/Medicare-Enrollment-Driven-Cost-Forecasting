{
 "cells": [
  {
   "cell_type": "code",
   "execution_count": 0,
   "metadata": {
    "application/vnd.databricks.v1+cell": {
     "cellMetadata": {
      "byteLimit": 2048000,
      "rowLimit": 10000
     },
     "inputWidgets": {},
     "nuid": "47aa52fc-7d9c-42c3-bf9d-8f85602086aa",
     "showTitle": false,
     "tableResultSettingsMap": {},
     "title": ""
    }
   },
   "outputs": [
    {
     "name": "stdout",
     "output_type": "stream",
     "text": [
      "+--------------------+----------------+----------------+----------------+\n",
      "|               State|Normalized_Total|Normalized_PartA|Normalized_PartB|\n",
      "+--------------------+----------------+----------------+----------------+\n",
      "|Total, Aged, and ...|            NULL|            NULL|            NULL|\n",
      "|  Calendar Year 2021|            NULL|            NULL|            NULL|\n",
      "|   Area of Residence|            NULL|            NULL|            NULL|\n",
      "|               BLANK|            NULL|            NULL|            NULL|\n",
      "|           All Areas|       3832287.0|       3301152.0|        531135.0|\n",
      "|       United States|       3776708.0|       3252470.0|        524238.0|\n",
      "|               BLANK|            NULL|            NULL|            NULL|\n",
      "|             Alabama|         59808.0|         47060.0|         12748.0|\n",
      "|              Alaska|          8138.0|          7257.0|           881.0|\n",
      "|             Arizona|         80238.0|         71153.0|          9085.0|\n",
      "|            Arkansas|         35471.0|         27496.0|          7975.0|\n",
      "|          California|        406086.0|        365363.0|         40723.0|\n",
      "|            Colorado|         61867.0|         56323.0|          5544.0|\n",
      "|         Connecticut|         42802.0|         37899.0|          4903.0|\n",
      "|            Delaware|         13293.0|         11703.0|          1590.0|\n",
      "|District of Columbia|          5379.0|          4617.0|           762.0|\n",
      "|             Florida|        276881.0|        241140.0|         35741.0|\n",
      "|             Georgia|        112030.0|         93174.0|         18856.0|\n",
      "|              Hawaii|         17451.0|         16025.0|          1426.0|\n",
      "|               Idaho|         21915.0|         18972.0|          2943.0|\n",
      "+--------------------+----------------+----------------+----------------+\n",
      "only showing top 20 rows\n"
     ]
    }
   ],
   "source": [
    "\n",
    "normalized_df = spark.read.format(\"delta\") \\\n",
    "    .load(\"abfss://silver@medicarestorageacct.dfs.core.windows.net/normalized_enrollment\")\n",
    "\n",
    "normalized_df.createOrReplaceTempView(\"normalized_enrollment\")\n",
    "\n",
    "spark.sql(\"SELECT * FROM normalized_enrollment\").show()"
   ]
  },
  {
   "cell_type": "markdown",
   "metadata": {
    "application/vnd.databricks.v1+cell": {
     "cellMetadata": {},
     "inputWidgets": {},
     "nuid": "f04c254b-dc0e-4c61-bded-23f3b56defe5",
     "showTitle": false,
     "tableResultSettingsMap": {},
     "title": ""
    }
   },
   "source": [
    "### **Total Enrollment by State**"
   ]
  },
  {
   "cell_type": "code",
   "execution_count": 0,
   "metadata": {
    "application/vnd.databricks.v1+cell": {
     "cellMetadata": {
      "byteLimit": 2048000,
      "implicitDf": true,
      "rowLimit": 10000
     },
     "inputWidgets": {},
     "nuid": "7faf9790-a6da-4888-a8e6-b74af0f4317e",
     "showTitle": false,
     "tableResultSettingsMap": {},
     "title": ""
    }
   },
   "outputs": [
    {
     "data": {
      "text/html": [
       "<style scoped>\n",
       "  .table-result-container {\n",
       "    max-height: 300px;\n",
       "    overflow: auto;\n",
       "  }\n",
       "  table, th, td {\n",
       "    border: 1px solid black;\n",
       "    border-collapse: collapse;\n",
       "  }\n",
       "  th, td {\n",
       "    padding: 5px;\n",
       "  }\n",
       "  th {\n",
       "    text-align: left;\n",
       "  }\n",
       "</style><div class='table-result-container'><table class='table-result'><thead style='background-color: white'><tr><th>State</th><th>Normalized_Total</th><th>Normalized_PartA</th><th>Normalized_PartB</th></tr></thead><tbody><tr><td>Total, Aged, and Disabled Enrollees, by Area of Residence</td><td>null</td><td>null</td><td>null</td></tr><tr><td>Calendar Year 2021</td><td>null</td><td>null</td><td>null</td></tr><tr><td>Area of Residence</td><td>null</td><td>null</td><td>null</td></tr><tr><td>BLANK</td><td>null</td><td>null</td><td>null</td></tr><tr><td>All Areas</td><td>3832287.0</td><td>3301152.0</td><td>531135.0</td></tr><tr><td>United States</td><td>3776708.0</td><td>3252470.0</td><td>524238.0</td></tr><tr><td>BLANK</td><td>null</td><td>null</td><td>null</td></tr><tr><td>Alabama</td><td>59808.0</td><td>47060.0</td><td>12748.0</td></tr><tr><td>Alaska</td><td>8138.0</td><td>7257.0</td><td>881.0</td></tr><tr><td>Arizona</td><td>80238.0</td><td>71153.0</td><td>9085.0</td></tr><tr><td>Arkansas</td><td>35471.0</td><td>27496.0</td><td>7975.0</td></tr><tr><td>California</td><td>406086.0</td><td>365363.0</td><td>40723.0</td></tr><tr><td>Colorado</td><td>61867.0</td><td>56323.0</td><td>5544.0</td></tr><tr><td>Connecticut</td><td>42802.0</td><td>37899.0</td><td>4903.0</td></tr><tr><td>Delaware</td><td>13293.0</td><td>11703.0</td><td>1590.0</td></tr><tr><td>District of Columbia</td><td>5379.0</td><td>4617.0</td><td>762.0</td></tr><tr><td>Florida</td><td>276881.0</td><td>241140.0</td><td>35741.0</td></tr><tr><td>Georgia</td><td>112030.0</td><td>93174.0</td><td>18856.0</td></tr><tr><td>Hawaii</td><td>17451.0</td><td>16025.0</td><td>1426.0</td></tr><tr><td>Idaho</td><td>21915.0</td><td>18972.0</td><td>2943.0</td></tr><tr><td>Illinois</td><td>139815.0</td><td>121555.0</td><td>18260.0</td></tr><tr><td>Indiana</td><td>78305.0</td><td>65444.0</td><td>12861.0</td></tr><tr><td>Iowa</td><td>39141.0</td><td>33436.0</td><td>5705.0</td></tr><tr><td>Kansas</td><td>34498.0</td><td>29747.0</td><td>4751.0</td></tr><tr><td>Kentucky</td><td>52974.0</td><td>42165.0</td><td>10809.0</td></tr><tr><td>Louisiana</td><td>54481.0</td><td>44010.0</td><td>10471.0</td></tr><tr><td>Maine</td><td>20017.0</td><td>17442.0</td><td>2575.0</td></tr><tr><td>Maryland</td><td>67015.0</td><td>58682.0</td><td>8333.0</td></tr><tr><td>Massachusetts</td><td>80472.0</td><td>70381.0</td><td>10091.0</td></tr><tr><td>Michigan</td><td>127075.0</td><td>106963.0</td><td>20112.0</td></tr><tr><td>Minnesota</td><td>66446.0</td><td>58572.0</td><td>7874.0</td></tr><tr><td>Mississippi</td><td>35926.0</td><td>28069.0</td><td>7857.0</td></tr><tr><td>Missouri</td><td>74412.0</td><td>61733.0</td><td>12679.0</td></tr><tr><td>Montana</td><td>15091.0</td><td>13323.0</td><td>1768.0</td></tr><tr><td>Nebraska</td><td>22137.0</td><td>19168.0</td><td>2969.0</td></tr><tr><td>Nevada</td><td>34210.0</td><td>30276.0</td><td>3934.0</td></tr><tr><td>New Hampshire</td><td>20064.0</td><td>17352.0</td><td>2712.0</td></tr><tr><td>New Jersey</td><td>102636.0</td><td>91145.0</td><td>11491.0</td></tr><tr><td>New Mexico</td><td>25232.0</td><td>21827.0</td><td>3405.0</td></tr><tr><td>New York</td><td>222553.0</td><td>192618.0</td><td>29935.0</td></tr><tr><td>North Carolina</td><td>120981.0</td><td>101757.0</td><td>19224.0</td></tr><tr><td>North Dakota</td><td>8950.0</td><td>7847.0</td><td>1103.0</td></tr><tr><td>Ohio</td><td>144515.0</td><td>122301.0</td><td>22214.0</td></tr><tr><td>Oklahoma</td><td>45445.0</td><td>37252.0</td><td>8193.0</td></tr><tr><td>Oregon</td><td>50364.0</td><td>44159.0</td><td>6205.0</td></tr><tr><td>Pennsylvania</td><td>165809.0</td><td>141607.0</td><td>24202.0</td></tr><tr><td>Rhode Island</td><td>13671.0</td><td>11496.0</td><td>2175.0</td></tr><tr><td>South Carolina</td><td>65379.0</td><td>54487.0</td><td>10892.0</td></tr><tr><td>South Dakota</td><td>11627.0</td><td>10386.0</td><td>1241.0</td></tr><tr><td>Tennessee</td><td>81994.0</td><td>67620.0</td><td>14374.0</td></tr><tr><td>Texas</td><td>286588.0</td><td>247738.0</td><td>38850.0</td></tr><tr><td>Utah</td><td>27523.0</td><td>24322.0</td><td>3201.0</td></tr><tr><td>Vermont</td><td>9151.0</td><td>8006.0</td><td>1145.0</td></tr><tr><td>Virginia</td><td>96405.0</td><td>82730.0</td><td>13675.0</td></tr><tr><td>Washington</td><td>86894.0</td><td>77076.0</td><td>9818.0</td></tr><tr><td>West Virginia</td><td>23342.0</td><td>18597.0</td><td>4745.0</td></tr><tr><td>Wisconsin</td><td>76199.0</td><td>65952.0</td><td>10247.0</td></tr><tr><td>Wyoming</td><td>8012.0</td><td>7047.0</td><td>965.0</td></tr><tr><td>BLANK</td><td>null</td><td>null</td><td>null</td></tr><tr><td>Territories, Possessions, and Other</td><td>null</td><td>null</td><td>null</td></tr><tr><td>Puerto Rico</td><td>30783.0</td><td>24796.0</td><td>5987.0</td></tr><tr><td>Virgin Islands</td><td>1141.0</td><td>1027.0</td><td>114.0</td></tr><tr><td>American Samoa</td><td>384.0</td><td>238.0</td><td>146.0</td></tr><tr><td>Guam</td><td>1373.0</td><td>1194.0</td><td>179.0</td></tr><tr><td>Northern Mariana Islands</td><td>272.0</td><td>226.0</td><td>46.0</td></tr><tr><td>Foreign Countries and Other Outyling Areas</td><td>21622.0</td><td>21197.0</td><td>425.0</td></tr><tr><td>Unknown</td><td>null</td><td>null</td><td>null</td></tr><tr><td>null</td><td>null</td><td>null</td><td>null</td></tr><tr><td>* Counts between 1 and 10 have been suppressed because of CMS rules to protect the privacy of beneficiaries.</td><td>null</td><td>null</td><td>null</td></tr><tr><td>† Counts have been cross-suppressed to prevent the recalculation of suppressed counts between 1 and 10.</td><td>null</td><td>null</td><td>null</td></tr><tr><td>null</td><td>null</td><td>null</td><td>null</td></tr><tr><td>NOTE:  The enrollment counts are determined using an ever-enrolled methodology.</td><td>null</td><td>null</td><td>null</td></tr><tr><td>BLANK</td><td>null</td><td>null</td><td>null</td></tr><tr><td>SOURCE:  Centers for Medicare & Medicaid Services, Office of Enterprise Data and Analytics, CMS Chronic Conditions Data Warehouse.</td><td>null</td><td>null</td><td>null</td></tr><tr><td>null</td><td>null</td><td>null</td><td>null</td></tr></tbody></table></div>"
      ]
     },
     "metadata": {
      "application/vnd.databricks.v1+output": {
       "addedWidgets": {},
       "aggData": [],
       "aggError": "",
       "aggOverflow": false,
       "aggSchema": [],
       "aggSeriesLimitReached": false,
       "aggType": "",
       "arguments": {},
       "columnCustomDisplayInfos": {},
       "data": [
        [
         "Total, Aged, and Disabled Enrollees, by Area of Residence",
         null,
         null,
         null
        ],
        [
         "Calendar Year 2021",
         null,
         null,
         null
        ],
        [
         "Area of Residence",
         null,
         null,
         null
        ],
        [
         "BLANK",
         null,
         null,
         null
        ],
        [
         "All Areas",
         3832287,
         3301152,
         531135
        ],
        [
         "United States",
         3776708,
         3252470,
         524238
        ],
        [
         "BLANK",
         null,
         null,
         null
        ],
        [
         "Alabama",
         59808,
         47060,
         12748
        ],
        [
         "Alaska",
         8138,
         7257,
         881
        ],
        [
         "Arizona",
         80238,
         71153,
         9085
        ],
        [
         "Arkansas",
         35471,
         27496,
         7975
        ],
        [
         "California",
         406086,
         365363,
         40723
        ],
        [
         "Colorado",
         61867,
         56323,
         5544
        ],
        [
         "Connecticut",
         42802,
         37899,
         4903
        ],
        [
         "Delaware",
         13293,
         11703,
         1590
        ],
        [
         "District of Columbia",
         5379,
         4617,
         762
        ],
        [
         "Florida",
         276881,
         241140,
         35741
        ],
        [
         "Georgia",
         112030,
         93174,
         18856
        ],
        [
         "Hawaii",
         17451,
         16025,
         1426
        ],
        [
         "Idaho",
         21915,
         18972,
         2943
        ],
        [
         "Illinois",
         139815,
         121555,
         18260
        ],
        [
         "Indiana",
         78305,
         65444,
         12861
        ],
        [
         "Iowa",
         39141,
         33436,
         5705
        ],
        [
         "Kansas",
         34498,
         29747,
         4751
        ],
        [
         "Kentucky",
         52974,
         42165,
         10809
        ],
        [
         "Louisiana",
         54481,
         44010,
         10471
        ],
        [
         "Maine",
         20017,
         17442,
         2575
        ],
        [
         "Maryland",
         67015,
         58682,
         8333
        ],
        [
         "Massachusetts",
         80472,
         70381,
         10091
        ],
        [
         "Michigan",
         127075,
         106963,
         20112
        ],
        [
         "Minnesota",
         66446,
         58572,
         7874
        ],
        [
         "Mississippi",
         35926,
         28069,
         7857
        ],
        [
         "Missouri",
         74412,
         61733,
         12679
        ],
        [
         "Montana",
         15091,
         13323,
         1768
        ],
        [
         "Nebraska",
         22137,
         19168,
         2969
        ],
        [
         "Nevada",
         34210,
         30276,
         3934
        ],
        [
         "New Hampshire",
         20064,
         17352,
         2712
        ],
        [
         "New Jersey",
         102636,
         91145,
         11491
        ],
        [
         "New Mexico",
         25232,
         21827,
         3405
        ],
        [
         "New York",
         222553,
         192618,
         29935
        ],
        [
         "North Carolina",
         120981,
         101757,
         19224
        ],
        [
         "North Dakota",
         8950,
         7847,
         1103
        ],
        [
         "Ohio",
         144515,
         122301,
         22214
        ],
        [
         "Oklahoma",
         45445,
         37252,
         8193
        ],
        [
         "Oregon",
         50364,
         44159,
         6205
        ],
        [
         "Pennsylvania",
         165809,
         141607,
         24202
        ],
        [
         "Rhode Island",
         13671,
         11496,
         2175
        ],
        [
         "South Carolina",
         65379,
         54487,
         10892
        ],
        [
         "South Dakota",
         11627,
         10386,
         1241
        ],
        [
         "Tennessee",
         81994,
         67620,
         14374
        ],
        [
         "Texas",
         286588,
         247738,
         38850
        ],
        [
         "Utah",
         27523,
         24322,
         3201
        ],
        [
         "Vermont",
         9151,
         8006,
         1145
        ],
        [
         "Virginia",
         96405,
         82730,
         13675
        ],
        [
         "Washington",
         86894,
         77076,
         9818
        ],
        [
         "West Virginia",
         23342,
         18597,
         4745
        ],
        [
         "Wisconsin",
         76199,
         65952,
         10247
        ],
        [
         "Wyoming",
         8012,
         7047,
         965
        ],
        [
         "BLANK",
         null,
         null,
         null
        ],
        [
         "Territories, Possessions, and Other",
         null,
         null,
         null
        ],
        [
         "Puerto Rico",
         30783,
         24796,
         5987
        ],
        [
         "Virgin Islands",
         1141,
         1027,
         114
        ],
        [
         "American Samoa",
         384,
         238,
         146
        ],
        [
         "Guam",
         1373,
         1194,
         179
        ],
        [
         "Northern Mariana Islands",
         272,
         226,
         46
        ],
        [
         "Foreign Countries and Other Outyling Areas",
         21622,
         21197,
         425
        ],
        [
         "Unknown",
         null,
         null,
         null
        ],
        [
         null,
         null,
         null,
         null
        ],
        [
         "* Counts between 1 and 10 have been suppressed because of CMS rules to protect the privacy of beneficiaries.",
         null,
         null,
         null
        ],
        [
         "† Counts have been cross-suppressed to prevent the recalculation of suppressed counts between 1 and 10.",
         null,
         null,
         null
        ],
        [
         null,
         null,
         null,
         null
        ],
        [
         "NOTE:  The enrollment counts are determined using an ever-enrolled methodology.",
         null,
         null,
         null
        ],
        [
         "BLANK",
         null,
         null,
         null
        ],
        [
         "SOURCE:  Centers for Medicare & Medicaid Services, Office of Enterprise Data and Analytics, CMS Chronic Conditions Data Warehouse.",
         null,
         null,
         null
        ],
        [
         null,
         null,
         null,
         null
        ]
       ],
       "datasetInfos": [
        {
         "name": "_sqldf",
         "schema": {
          "fields": [
           {
            "metadata": {},
            "name": "State",
            "nullable": true,
            "type": "string"
           },
           {
            "metadata": {},
            "name": "Normalized_Total",
            "nullable": true,
            "type": "double"
           },
           {
            "metadata": {},
            "name": "Normalized_PartA",
            "nullable": true,
            "type": "double"
           },
           {
            "metadata": {},
            "name": "Normalized_PartB",
            "nullable": true,
            "type": "double"
           }
          ],
          "type": "struct"
         },
         "tableIdentifier": null,
         "typeStr": "pyspark.sql.dataframe.DataFrame"
        }
       ],
       "dbfsResultPath": null,
       "isJsonSchema": true,
       "metadata": {
        "createTempViewForImplicitDf": true,
        "dataframeName": "_sqldf",
        "executionCount": 18
       },
       "overflow": false,
       "plotOptions": {
        "customPlotOptions": {},
        "displayType": "table",
        "pivotAggregation": null,
        "pivotColumns": null,
        "xColumns": null,
        "yColumns": null
       },
       "removedWidgets": [],
       "schema": [
        {
         "metadata": "{}",
         "name": "State",
         "type": "\"string\""
        },
        {
         "metadata": "{}",
         "name": "Normalized_Total",
         "type": "\"double\""
        },
        {
         "metadata": "{}",
         "name": "Normalized_PartA",
         "type": "\"double\""
        },
        {
         "metadata": "{}",
         "name": "Normalized_PartB",
         "type": "\"double\""
        }
       ],
       "type": "table"
      }
     },
     "output_type": "display_data"
    },
    {
     "data": {
      "text/plain": [
       "Databricks visualization. Run in Databricks to view."
      ]
     },
     "metadata": {
      "application/vnd.databricks.v1.subcommand+json": {
       "baseErrorDetails": null,
       "bindings": {},
       "collapsed": false,
       "command": "%sql\nSELECT\n  State,\n  Normalized_Total,\n  Normalized_PartA,\n  Normalized_PartB\nFROM\n  normalized_enrollment",
       "commandTitle": "Visualization 1",
       "commandType": "auto",
       "commandVersion": 0,
       "commentThread": [],
       "commentsVisible": false,
       "contentSha256Hex": null,
       "customPlotOptions": {
        "redashChart": [
         {
          "key": "type",
          "value": "CHOROPLETH"
         },
         {
          "key": "options",
          "value": {
           "clusteringMode": "e",
           "colors": {
            "background": "#ffffff",
            "borders": "#ffffff",
            "max": "#002FB4",
            "min": "#799CFF",
            "noValue": "#dddddd"
           },
           "keyColumn": "State",
           "legend": {
            "alignText": "right",
            "position": "bottom-left",
            "visible": true
           },
           "mapType": "usa",
           "noValuePlaceholder": "N/A",
           "popup": {
            "enabled": true,
            "template": "Region: <b>{{ @@name }}</b>\n<br>\nValue: <b>{{ @@value }}</b>"
           },
           "steps": "8",
           "targetField": "name",
           "tooltip": {
            "enabled": true,
            "template": "<b>{{ @@name }}</b>: {{ @@value }}"
           },
           "valueColumn": "Normalized_Total",
           "valueFormat": "0,0.00"
          }
         }
        ]
       },
       "datasetPreviewNameToCmdIdMap": {},
       "diffDeletes": [],
       "diffInserts": [],
       "displayType": "redashChart",
       "error": null,
       "errorDetails": null,
       "errorSummary": null,
       "errorTraceType": null,
       "finishTime": 0,
       "globalVars": {},
       "guid": "",
       "height": "auto",
       "hideCommandCode": false,
       "hideCommandResult": false,
       "iPythonMetadata": null,
       "inputWidgets": {},
       "isLockedInExamMode": false,
       "latestAssumeRoleInfo": null,
       "latestUser": "a user",
       "latestUserId": null,
       "listResultMetadata": null,
       "metadata": {},
       "nuid": "1a1530f7-4b00-4717-8aac-8a090f56204e",
       "origId": 0,
       "parentHierarchy": [],
       "pivotAggregation": null,
       "pivotColumns": null,
       "position": 3,
       "resultDbfsErrorMessage": null,
       "resultDbfsStatus": "INLINED_IN_TREE",
       "results": null,
       "showCommandTitle": false,
       "startTime": 0,
       "state": "input",
       "streamStates": {},
       "subcommandOptions": {},
       "submitTime": 0,
       "subtype": "tableResultSubCmd.visualization",
       "tableResultIndex": 0,
       "tableResultSettingsMap": {},
       "useConsistentColors": false,
       "version": "CommandV1",
       "width": "auto",
       "workflows": [],
       "xColumns": null,
       "yColumns": null
      }
     },
     "output_type": "display_data"
    }
   ],
   "source": [
    "%sql\n",
    "SELECT\n",
    "  State,\n",
    "  Normalized_Total,\n",
    "  Normalized_PartA,\n",
    "  Normalized_PartB\n",
    "FROM\n",
    "  normalized_enrollment"
   ]
  },
  {
   "cell_type": "code",
   "execution_count": 0,
   "metadata": {
    "application/vnd.databricks.v1+cell": {
     "cellMetadata": {
      "byteLimit": 2048000,
      "rowLimit": 10000
     },
     "inputWidgets": {},
     "nuid": "8bcb8571-d56a-4d39-95f5-4844fc85c1c0",
     "showTitle": false,
     "tableResultSettingsMap": {},
     "title": ""
    }
   },
   "outputs": [],
   "source": [
    "normalized_df = spark.sql(\"SELECT * FROM normalized_enrollment\")\n",
    "normalized_df.write.format(\"delta\")\\\n",
    "        .mode(\"overwrite\")\\\n",
    "        .save(\"abfss://gold@medicarestorageacct.dfs.core.windows.net/total_enrollment\")"
   ]
  }
 ],
 "metadata": {
  "application/vnd.databricks.v1+notebook": {
   "computePreferences": null,
   "dashboards": [],
   "environmentMetadata": {
    "base_environment": "",
    "environment_version": "3"
   },
   "inputWidgetPreferences": null,
   "language": "python",
   "notebookMetadata": {
    "mostRecentlyExecutedCommandWithImplicitDF": {
     "commandId": 7306102031170423,
     "dataframes": [
      "_sqldf"
     ]
    },
    "pythonIndentUnit": 4
   },
   "notebookName": "Gold_Layer",
   "widgets": {}
  },
  "language_info": {
   "name": "python"
  }
 },
 "nbformat": 4,
 "nbformat_minor": 0
}
